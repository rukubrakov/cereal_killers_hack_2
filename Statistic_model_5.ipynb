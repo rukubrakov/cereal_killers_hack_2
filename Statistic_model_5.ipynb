{
  "nbformat": 4,
  "nbformat_minor": 0,
  "metadata": {
    "kernelspec": {
      "display_name": "Python 3",
      "language": "python",
      "name": "python3"
    },
    "language_info": {
      "codemirror_mode": {
        "name": "ipython",
        "version": 3
      },
      "file_extension": ".py",
      "mimetype": "text/x-python",
      "name": "python",
      "nbconvert_exporter": "python",
      "pygments_lexer": "ipython3",
      "version": "3.8.3"
    },
    "colab": {
      "name": "Statistic_model.ipynb",
      "provenance": [],
      "collapsed_sections": []
    },
    "accelerator": "GPU"
  },
  "cells": [
    {
      "cell_type": "code",
      "metadata": {
        "id": "o9k1NaZdCOlf"
      },
      "source": [
        "from os import listdir\n",
        "import pandas as pd\n",
        "from tqdm import tqdm"
      ],
      "execution_count": 1,
      "outputs": []
    },
    {
      "cell_type": "code",
      "metadata": {
        "id": "3EI6nOVNCX5M",
        "outputId": "df715e7c-c991-4965-b6f1-17831c8d380a",
        "colab": {
          "base_uri": "https://localhost:8080/",
          "height": 54
        }
      },
      "source": [
        "from google.colab import drive\n",
        "drive.mount('/content/drive')"
      ],
      "execution_count": 2,
      "outputs": [
        {
          "output_type": "stream",
          "text": [
            "Drive already mounted at /content/drive; to attempt to forcibly remount, call drive.mount(\"/content/drive\", force_remount=True).\n"
          ],
          "name": "stdout"
        }
      ]
    },
    {
      "cell_type": "code",
      "metadata": {
        "id": "a0FQtQVaDAXE"
      },
      "source": [
        "import zipfile\n",
        "\n",
        "zip_ref = zipfile.ZipFile(\"/content/drive/My Drive/Sbermarket/test-recsys.zip\", 'r')\n",
        "zip_ref.extractall(\"\")\n",
        "zip_ref.close()"
      ],
      "execution_count": null,
      "outputs": []
    },
    {
      "cell_type": "code",
      "metadata": {
        "id": "QEjPgZp2COll"
      },
      "source": [
        "folders = ['sbermarket_tab_2_1','sbermarket_tab_2_2','sbermarket_tab_2_3',\n",
        "          'sbermarket_tab_2_4','sbermarket_tab_2_5','sbermarket_tab_2_6']"
      ],
      "execution_count": null,
      "outputs": []
    },
    {
      "cell_type": "code",
      "metadata": {
        "id": "vqv97qRNCOlq"
      },
      "source": [
        "t1 = pd.read_csv('kaggle_tab_1345/tab_1_orders.csv')[['order_id', 'order_created_time']]"
      ],
      "execution_count": null,
      "outputs": []
    },
    {
      "cell_type": "code",
      "metadata": {
        "id": "oCilJb_DCOlv",
        "outputId": "2e8081a5-cacd-43be-80e8-a70511ee75cf",
        "colab": {
          "base_uri": "https://localhost:8080/",
          "height": 680
        }
      },
      "source": [
        "itogos = []\n",
        "for folder in tqdm(folders):\n",
        "    itogo = pd.DataFrame()\n",
        "    files = listdir(folder)\n",
        "    for file in tqdm(files):\n",
        "        tmp = pd.read_csv(folder+'/'+file)\n",
        "        itogo = itogo.append(tmp)\n",
        "    itogo = pd.merge(itogo, t1, how = 'left', on = 'order_id')\n",
        "    tmp = itogo.dropna()"
      ],
      "execution_count": null,
      "outputs": [
        {
          "output_type": "stream",
          "text": [
            "  0%|          | 0/6 [00:00<?, ?it/s]\n",
            "  0%|          | 0/10 [00:00<?, ?it/s]\u001b[A\n",
            " 10%|█         | 1/10 [00:07<01:03,  7.02s/it]\u001b[A\n",
            " 20%|██        | 2/10 [00:16<01:01,  7.69s/it]\u001b[A\n",
            " 30%|███       | 3/10 [00:20<00:45,  6.53s/it]\u001b[A\n",
            " 40%|████      | 4/10 [00:24<00:35,  5.88s/it]\u001b[A\n",
            " 50%|█████     | 5/10 [00:26<00:24,  4.83s/it]\u001b[A\n",
            " 60%|██████    | 6/10 [00:30<00:17,  4.34s/it]\u001b[A\n",
            " 70%|███████   | 7/10 [00:34<00:13,  4.46s/it]\u001b[A\n",
            " 80%|████████  | 8/10 [00:38<00:08,  4.11s/it]\u001b[A\n",
            " 90%|█████████ | 9/10 [00:45<00:04,  4.98s/it]\u001b[A\n",
            "100%|██████████| 10/10 [00:49<00:00,  4.96s/it]\n",
            " 17%|█▋        | 1/6 [00:55<04:36, 55.39s/it]\n",
            "  0%|          | 0/3 [00:00<?, ?it/s]\u001b[A\n",
            " 33%|███▎      | 1/3 [00:16<00:32, 16.35s/it]\u001b[A\n",
            " 67%|██████▋   | 2/3 [00:28<00:15, 15.12s/it]\u001b[A\n",
            "100%|██████████| 3/3 [00:42<00:00, 14.27s/it]\n",
            " 33%|███▎      | 2/6 [01:44<03:34, 53.62s/it]\n",
            "  0%|          | 0/3 [00:00<?, ?it/s]\u001b[A\n",
            " 33%|███▎      | 1/3 [00:17<00:34, 17.28s/it]\u001b[A\n",
            " 67%|██████▋   | 2/3 [00:36<00:17, 17.76s/it]\u001b[A\n",
            "100%|██████████| 3/3 [00:56<00:00, 18.90s/it]\n",
            " 50%|█████     | 3/6 [02:50<02:51, 57.25s/it]\n",
            "  0%|          | 0/3 [00:00<?, ?it/s]\u001b[A\n",
            " 33%|███▎      | 1/3 [00:12<00:25, 12.59s/it]\u001b[A\n",
            " 67%|██████▋   | 2/3 [00:26<00:13, 13.05s/it]\u001b[A\n",
            "100%|██████████| 3/3 [00:43<00:00, 14.48s/it]\n",
            " 67%|██████▋   | 4/6 [03:40<01:50, 55.09s/it]\n",
            "  0%|          | 0/3 [00:00<?, ?it/s]\u001b[A\n",
            " 33%|███▎      | 1/3 [00:12<00:25, 12.64s/it]\u001b[A\n",
            " 67%|██████▋   | 2/3 [00:26<00:13, 13.11s/it]\u001b[A\n",
            "100%|██████████| 3/3 [00:40<00:00, 13.60s/it]\n",
            " 83%|████████▎ | 5/6 [04:27<00:52, 52.60s/it]\n",
            "  0%|          | 0/4 [00:00<?, ?it/s]\u001b[A\n",
            " 25%|██▌       | 1/4 [00:14<00:43, 14.46s/it]\u001b[A\n",
            " 50%|█████     | 2/4 [00:28<00:28, 14.34s/it]\u001b[A\n",
            " 75%|███████▌  | 3/4 [00:43<00:14, 14.39s/it]\u001b[A\n",
            "100%|██████████| 4/4 [00:59<00:00, 14.95s/it]\n",
            "100%|██████████| 6/6 [05:35<00:00, 55.99s/it]\n"
          ],
          "name": "stderr"
        }
      ]
    },
    {
      "cell_type": "markdown",
      "metadata": {
        "id": "eyU0YNkhCOl0"
      },
      "source": [
        "tmp1 = pd.read_csv('sbermarket_tab_2_1/tab_2_products_2020-01-01.csv')\n",
        "tmp = pd.read_csv('sbermarket_tab_2_1/tab_2_products_2020-01-01.csv')"
      ]
    },
    {
      "cell_type": "code",
      "metadata": {
        "id": "BPkyvtwGCOl1"
      },
      "source": [
        "submission_sample = pd.read_csv('/content/drive/My Drive/Sbermarket/sample_submission.csv')"
      ],
      "execution_count": 3,
      "outputs": []
    },
    {
      "cell_type": "code",
      "metadata": {
        "id": "BZrJXWM6IwWE"
      },
      "source": [
        "#tmp = pd.read_csv('/content/sbermarket_tab_2_1/tab_2_products_2020-01-01.csv')"
      ],
      "execution_count": null,
      "outputs": []
    },
    {
      "cell_type": "code",
      "metadata": {
        "id": "9pUMQJnQCOl6"
      },
      "source": [
        "tmp1 = tmp[tmp['user_id'].isin(submission_sample['Id'].apply(int).values.tolist())][:10000]"
      ],
      "execution_count": null,
      "outputs": []
    },
    {
      "cell_type": "code",
      "metadata": {
        "id": "BGbuwcb3COl_"
      },
      "source": [
        "tmp1 = tmp.copy()"
      ],
      "execution_count": null,
      "outputs": []
    },
    {
      "cell_type": "code",
      "metadata": {
        "id": "pgvPs_VLCOmF"
      },
      "source": [
        "df = pd.read_csv('kaggle_tab_1345'+'/'+'tab_1_orders.csv')\n",
        "df1 = pd.read_csv('kaggle_tab_1345'+'/'+'tab_1_orders.csv')\n",
        "df.set_index(['user_id', 'retailer'], inplace = True)\n",
        "gp_ret = pd.DataFrame(df1.groupby('user_id').retailer.value_counts()/df1.groupby('user_id').retailer.count())\n",
        "df = df.join(gp_ret).rename(columns={'retailer': 'retailer_proba'}).reset_index()\n",
        "df.set_index(['user_id', 'order_id'], inplace = True)"
      ],
      "execution_count": null,
      "outputs": []
    },
    {
      "cell_type": "code",
      "metadata": {
        "id": "XX6pJ-PqCOmK"
      },
      "source": [
        "df.drop(['order_created_time', 'store_id','platform'], inplace=True, axis=1)"
      ],
      "execution_count": null,
      "outputs": []
    },
    {
      "cell_type": "code",
      "metadata": {
        "id": "Haj0WjCX0Xbc"
      },
      "source": [
        "tmp.reset_index(inplace=True)"
      ],
      "execution_count": null,
      "outputs": []
    },
    {
      "cell_type": "code",
      "metadata": {
        "id": "MQCKob8ZCOmT"
      },
      "source": [
        "tmp.reset_index(inplace=True)\n",
        "tmp.set_index(['user_id', 'order_id'], inplace=True)"
      ],
      "execution_count": 82,
      "outputs": []
    },
    {
      "cell_type": "code",
      "metadata": {
        "id": "pOXjSrFvi7kL"
      },
      "source": [
        "tmp.drop(['level_0', 'Unnamed: 0', 'index'], axis=1, inplace=True)"
      ],
      "execution_count": 84,
      "outputs": []
    },
    {
      "cell_type": "code",
      "metadata": {
        "id": "B5JcU9AHCOmX"
      },
      "source": [
        "df.reset_index(inplace=True)"
      ],
      "execution_count": 86,
      "outputs": []
    },
    {
      "cell_type": "code",
      "metadata": {
        "id": "WW4Tn2L6COmb",
        "outputId": "10c29630-dcd2-4afe-a2d0-78a4dcb3121d"
      },
      "source": [
        "ind_to_drop = []\n",
        "for x in tqdm(df.iloc):\n",
        "    if x['user_id'] not in tmp.index:\n",
        "        ind_to_drop.append(x['user_id'])"
      ],
      "execution_count": null,
      "outputs": [
        {
          "output_type": "stream",
          "text": [
            "1818079it [1:58:12, 264.92it/s]"
          ],
          "name": "stderr"
        }
      ]
    },
    {
      "cell_type": "code",
      "metadata": {
        "id": "K-MedTAQCOmg"
      },
      "source": [
        "df.set_index('user_id', inplace=True)\n",
        "df.drop(ind_to_drop, inplace=True)"
      ],
      "execution_count": null,
      "outputs": []
    },
    {
      "cell_type": "code",
      "metadata": {
        "id": "sNFpQiHsCOmm"
      },
      "source": [
        "df.set_index(['user_id', 'order_id'], inplace=True)"
      ],
      "execution_count": 87,
      "outputs": []
    },
    {
      "cell_type": "code",
      "metadata": {
        "id": "Fk6MCEg2kUJR"
      },
      "source": [
        "df.drop(['index'], axis=1, inplace=True)"
      ],
      "execution_count": 89,
      "outputs": []
    },
    {
      "cell_type": "code",
      "metadata": {
        "id": "Y15prOvRCOmp"
      },
      "source": [
        "df.to_csv('df_before_merge.csv')\n",
        "tmp.to_csv('tmp_before_merge.csv')"
      ],
      "execution_count": null,
      "outputs": []
    },
    {
      "cell_type": "code",
      "metadata": {
        "id": "s96ThqoeIPsC"
      },
      "source": [
        "df = pd.read_csv('/content/drive/My Drive/Sbermarket/df_before_merge.csv')\n",
        "tmp = pd.read_csv('/content/drive/My Drive/Sbermarket/tmp_before_merge.csv')"
      ],
      "execution_count": 4,
      "outputs": []
    },
    {
      "cell_type": "code",
      "metadata": {
        "id": "qnWQU95YA2Hs"
      },
      "source": [
        "user_info = pd.read_csv('/content/drive/My Drive/Sbermarket/tab_4_user_profiles.csv')"
      ],
      "execution_count": 163,
      "outputs": []
    },
    {
      "cell_type": "code",
      "metadata": {
        "id": "_lhJVmh4BES6"
      },
      "source": [
        "user_info.dropna(inplace=True)"
      ],
      "execution_count": 164,
      "outputs": []
    },
    {
      "cell_type": "code",
      "metadata": {
        "id": "rk4IJ6isDWKD",
        "outputId": "3ad8237c-3b0d-4c23-e1f0-abfc9829cc35",
        "colab": {
          "base_uri": "https://localhost:8080/",
          "height": 221
        }
      },
      "source": [
        "user_info['bdate'].value_counts().sort_index()"
      ],
      "execution_count": 165,
      "outputs": [
        {
          "output_type": "execute_result",
          "data": {
            "text/plain": [
              "01.01.1900    1\n",
              "01.01.1910    3\n",
              "01.01.1917    1\n",
              "01.01.1919    1\n",
              "01.01.1935    1\n",
              "             ..\n",
              "9.9.1997      2\n",
              "9.9.1998      2\n",
              "9.9.1999      3\n",
              "9.9.2002      2\n",
              "9.9.2006      1\n",
              "Name: bdate, Length: 27463, dtype: int64"
            ]
          },
          "metadata": {
            "tags": []
          },
          "execution_count": 165
        }
      ]
    },
    {
      "cell_type": "code",
      "metadata": {
        "id": "SAfK07ovB9Ru",
        "outputId": "0ff8219b-37aa-40da-bb64-5da5ace94c7d",
        "colab": {
          "base_uri": "https://localhost:8080/",
          "height": 221
        }
      },
      "source": [
        "user_info['bdate'] = user_info['bdate'].apply(pd.to_datetime, format='%d.%m.%Y', errors='ignore')\n",
        "user_info['bdate'] = user_info['bdate'].apply(pd.to_datetime, errors='ignore')\n",
        "user_info.dropna(inplace=True)\n",
        "\n",
        "user_info['bdate']"
      ],
      "execution_count": 166,
      "outputs": [
        {
          "output_type": "execute_result",
          "data": {
            "text/plain": [
              "1         1987-10-11 00:00:00\n",
              "10        1982-09-24 00:00:00\n",
              "19        1983-09-26 00:00:00\n",
              "22        1989-03-16 00:00:00\n",
              "41        1978-12-04 00:00:00\n",
              "                 ...         \n",
              "438862    1997-09-15 00:00:00\n",
              "438863    1978-09-18 00:00:00\n",
              "438864    1981-11-02 00:00:00\n",
              "438865    1993-10-04 00:00:00\n",
              "438866    1981-07-22 00:00:00\n",
              "Name: bdate, Length: 206928, dtype: object"
            ]
          },
          "metadata": {
            "tags": []
          },
          "execution_count": 166
        }
      ]
    },
    {
      "cell_type": "code",
      "metadata": {
        "id": "HNyXPhxZIHEd",
        "outputId": "e285d4ff-0a57-4b18-f1a5-307f2dfc3355",
        "colab": {
          "base_uri": "https://localhost:8080/",
          "height": 68
        }
      },
      "source": [
        "user_info.dtypes"
      ],
      "execution_count": 45,
      "outputs": [
        {
          "output_type": "execute_result",
          "data": {
            "text/plain": [
              "gender    object\n",
              "bdate     object\n",
              "dtype: object"
            ]
          },
          "metadata": {
            "tags": []
          },
          "execution_count": 45
        }
      ]
    },
    {
      "cell_type": "code",
      "metadata": {
        "id": "Uth3f06UGlau"
      },
      "source": [
        "user_info.drop_duplicates(inplace=True)"
      ],
      "execution_count": 167,
      "outputs": []
    },
    {
      "cell_type": "code",
      "metadata": {
        "id": "JlApIDasarV0"
      },
      "source": [
        "tmp.describe()"
      ],
      "execution_count": null,
      "outputs": []
    },
    {
      "cell_type": "code",
      "metadata": {
        "id": "clDb7jxDFJ12"
      },
      "source": [
        "user_info.set_index('user_id', inplace=True)"
      ],
      "execution_count": 12,
      "outputs": []
    },
    {
      "cell_type": "code",
      "metadata": {
        "id": "stFgOZx4FZKf"
      },
      "source": [
        "tmp = tmp.reset_index().set_index('user_id')"
      ],
      "execution_count": 13,
      "outputs": []
    },
    {
      "cell_type": "code",
      "metadata": {
        "id": "M5fpm-Y0GibL"
      },
      "source": [
        "user_info.reset_index(inplace=True)"
      ],
      "execution_count": null,
      "outputs": []
    },
    {
      "cell_type": "code",
      "metadata": {
        "id": "9felvFo8dp9c"
      },
      "source": [
        "user_info['bdate'] = user_info['bdate'].apply(str)"
      ],
      "execution_count": 168,
      "outputs": []
    },
    {
      "cell_type": "code",
      "metadata": {
        "id": "XKLPSYCedwYp"
      },
      "source": [
        "user_info['bdate'] = user_info['bdate'].apply(pd.to_datetime, format='%Y-%m-%d %H:%M:%S', errors='coerce')"
      ],
      "execution_count": 169,
      "outputs": []
    },
    {
      "cell_type": "code",
      "metadata": {
        "id": "qaNyCRsUeDNx"
      },
      "source": [
        "user_info.dropna(inplace=True)"
      ],
      "execution_count": 170,
      "outputs": []
    },
    {
      "cell_type": "code",
      "metadata": {
        "id": "lWBlc6dBYwJZ",
        "outputId": "98c2532c-dfa0-45a2-ad9a-ba78e9017b4e",
        "colab": {
          "base_uri": "https://localhost:8080/",
          "height": 419
        }
      },
      "source": [
        "user_info['age_category'] = user_info['bdate'].apply(lambda x: int((datetime.now() - x).days / 365)).apply(age_category)\n",
        "user_info"
      ],
      "execution_count": 171,
      "outputs": [
        {
          "output_type": "execute_result",
          "data": {
            "text/html": [
              "<div>\n",
              "<style scoped>\n",
              "    .dataframe tbody tr th:only-of-type {\n",
              "        vertical-align: middle;\n",
              "    }\n",
              "\n",
              "    .dataframe tbody tr th {\n",
              "        vertical-align: top;\n",
              "    }\n",
              "\n",
              "    .dataframe thead th {\n",
              "        text-align: right;\n",
              "    }\n",
              "</style>\n",
              "<table border=\"1\" class=\"dataframe\">\n",
              "  <thead>\n",
              "    <tr style=\"text-align: right;\">\n",
              "      <th></th>\n",
              "      <th>user_id</th>\n",
              "      <th>gender</th>\n",
              "      <th>bdate</th>\n",
              "      <th>age_category</th>\n",
              "    </tr>\n",
              "  </thead>\n",
              "  <tbody>\n",
              "    <tr>\n",
              "      <th>1</th>\n",
              "      <td>1683001</td>\n",
              "      <td>male</td>\n",
              "      <td>1987-10-11</td>\n",
              "      <td>3</td>\n",
              "    </tr>\n",
              "    <tr>\n",
              "      <th>10</th>\n",
              "      <td>1288925</td>\n",
              "      <td>male</td>\n",
              "      <td>1982-09-24</td>\n",
              "      <td>3</td>\n",
              "    </tr>\n",
              "    <tr>\n",
              "      <th>19</th>\n",
              "      <td>1914497</td>\n",
              "      <td>male</td>\n",
              "      <td>1983-09-26</td>\n",
              "      <td>3</td>\n",
              "    </tr>\n",
              "    <tr>\n",
              "      <th>22</th>\n",
              "      <td>631583</td>\n",
              "      <td>male</td>\n",
              "      <td>1989-03-16</td>\n",
              "      <td>3</td>\n",
              "    </tr>\n",
              "    <tr>\n",
              "      <th>41</th>\n",
              "      <td>2106256</td>\n",
              "      <td>male</td>\n",
              "      <td>1978-12-04</td>\n",
              "      <td>4</td>\n",
              "    </tr>\n",
              "    <tr>\n",
              "      <th>...</th>\n",
              "      <td>...</td>\n",
              "      <td>...</td>\n",
              "      <td>...</td>\n",
              "      <td>...</td>\n",
              "    </tr>\n",
              "    <tr>\n",
              "      <th>438862</th>\n",
              "      <td>3424212</td>\n",
              "      <td>female</td>\n",
              "      <td>1997-09-15</td>\n",
              "      <td>2</td>\n",
              "    </tr>\n",
              "    <tr>\n",
              "      <th>438863</th>\n",
              "      <td>3424222</td>\n",
              "      <td>male</td>\n",
              "      <td>1978-09-18</td>\n",
              "      <td>4</td>\n",
              "    </tr>\n",
              "    <tr>\n",
              "      <th>438864</th>\n",
              "      <td>3424225</td>\n",
              "      <td>female</td>\n",
              "      <td>1981-11-02</td>\n",
              "      <td>3</td>\n",
              "    </tr>\n",
              "    <tr>\n",
              "      <th>438865</th>\n",
              "      <td>3424228</td>\n",
              "      <td>female</td>\n",
              "      <td>1993-10-04</td>\n",
              "      <td>2</td>\n",
              "    </tr>\n",
              "    <tr>\n",
              "      <th>438866</th>\n",
              "      <td>797420</td>\n",
              "      <td>female</td>\n",
              "      <td>1981-07-22</td>\n",
              "      <td>3</td>\n",
              "    </tr>\n",
              "  </tbody>\n",
              "</table>\n",
              "<p>206547 rows × 4 columns</p>\n",
              "</div>"
            ],
            "text/plain": [
              "        user_id  gender      bdate  age_category\n",
              "1       1683001    male 1987-10-11             3\n",
              "10      1288925    male 1982-09-24             3\n",
              "19      1914497    male 1983-09-26             3\n",
              "22       631583    male 1989-03-16             3\n",
              "41      2106256    male 1978-12-04             4\n",
              "...         ...     ...        ...           ...\n",
              "438862  3424212  female 1997-09-15             2\n",
              "438863  3424222    male 1978-09-18             4\n",
              "438864  3424225  female 1981-11-02             3\n",
              "438865  3424228  female 1993-10-04             2\n",
              "438866   797420  female 1981-07-22             3\n",
              "\n",
              "[206547 rows x 4 columns]"
            ]
          },
          "metadata": {
            "tags": []
          },
          "execution_count": 171
        }
      ]
    },
    {
      "cell_type": "code",
      "metadata": {
        "id": "EnIrDXTAb3U_"
      },
      "source": [
        "user_info.drop(['gender','bdate'], axis=1, inplace=True)"
      ],
      "execution_count": 172,
      "outputs": []
    },
    {
      "cell_type": "code",
      "metadata": {
        "id": "m2fO_eL3gNi8"
      },
      "source": [
        "user_info.set_index('user_id',inplace=True)"
      ],
      "execution_count": 173,
      "outputs": []
    },
    {
      "cell_type": "code",
      "metadata": {
        "id": "sQx1b7fRejGd"
      },
      "source": [
        "user_info['add'] = [cat.loc[x['age_category']]['product_id'] for x in user_info.iloc()]"
      ],
      "execution_count": 174,
      "outputs": []
    },
    {
      "cell_type": "code",
      "metadata": {
        "id": "UL2Q6Pg0iOUN"
      },
      "source": [
        "user_info.drop('age_category', inplace=True, axis=1)"
      ],
      "execution_count": 175,
      "outputs": []
    },
    {
      "cell_type": "code",
      "metadata": {
        "id": "2QKD5eKgiZ3p"
      },
      "source": [
        "user_info.reset_index(inplace=True)"
      ],
      "execution_count": 176,
      "outputs": []
    },
    {
      "cell_type": "code",
      "metadata": {
        "id": "DTbvzNLtmBdN"
      },
      "source": [
        "user_info.rename(columns={'user_id': 'Id'}, inplace=True)"
      ],
      "execution_count": 177,
      "outputs": []
    },
    {
      "cell_type": "code",
      "metadata": {
        "id": "emzTjpuIox1c",
        "outputId": "96b52ab9-0a8c-4452-d384-b2f9021042db",
        "colab": {
          "base_uri": "https://localhost:8080/",
          "height": 34
        }
      },
      "source": [
        "tt = pd.DataFrame(user_info.Id.value_counts())\n",
        "len(tt[tt['Id'] == 2].index.tolist())"
      ],
      "execution_count": 178,
      "outputs": [
        {
          "output_type": "execute_result",
          "data": {
            "text/plain": [
              "19"
            ]
          },
          "metadata": {
            "tags": []
          },
          "execution_count": 178
        }
      ]
    },
    {
      "cell_type": "code",
      "metadata": {
        "id": "pGAXPRZ2rvjJ"
      },
      "source": [
        "dob = user_info[user_info['Id'].isin(tt[tt['Id'] == 2].index.tolist())].sort_values('Id')[::2]"
      ],
      "execution_count": 179,
      "outputs": []
    },
    {
      "cell_type": "code",
      "metadata": {
        "id": "vz3FTsgCvDRv",
        "outputId": "97a62d73-768d-485a-95b2-e645e1460774",
        "colab": {
          "base_uri": "https://localhost:8080/",
          "height": 638
        }
      },
      "source": [
        "dob"
      ],
      "execution_count": 182,
      "outputs": [
        {
          "output_type": "execute_result",
          "data": {
            "text/html": [
              "<div>\n",
              "<style scoped>\n",
              "    .dataframe tbody tr th:only-of-type {\n",
              "        vertical-align: middle;\n",
              "    }\n",
              "\n",
              "    .dataframe tbody tr th {\n",
              "        vertical-align: top;\n",
              "    }\n",
              "\n",
              "    .dataframe thead th {\n",
              "        text-align: right;\n",
              "    }\n",
              "</style>\n",
              "<table border=\"1\" class=\"dataframe\">\n",
              "  <thead>\n",
              "    <tr style=\"text-align: right;\">\n",
              "      <th></th>\n",
              "      <th>Id</th>\n",
              "      <th>add</th>\n",
              "    </tr>\n",
              "  </thead>\n",
              "  <tbody>\n",
              "    <tr>\n",
              "      <th>3786</th>\n",
              "      <td>214446</td>\n",
              "      <td>709 1300 39590 158 67694 55134 166 63072 100 3...</td>\n",
              "    </tr>\n",
              "    <tr>\n",
              "      <th>192665</th>\n",
              "      <td>1044049</td>\n",
              "      <td>709 39590 158 166 100 14564 180 67694 73725 13...</td>\n",
              "    </tr>\n",
              "    <tr>\n",
              "      <th>13544</th>\n",
              "      <td>1625638</td>\n",
              "      <td>709 158 39590 166 1300 67694 100 3817484 63072...</td>\n",
              "    </tr>\n",
              "    <tr>\n",
              "      <th>1753</th>\n",
              "      <td>1988600</td>\n",
              "      <td>709 39590 158 166 100 14564 180 67694 73725 13...</td>\n",
              "    </tr>\n",
              "    <tr>\n",
              "      <th>8506</th>\n",
              "      <td>2003146</td>\n",
              "      <td>709 158 39590 166 1300 67694 100 3817484 63072...</td>\n",
              "    </tr>\n",
              "    <tr>\n",
              "      <th>17983</th>\n",
              "      <td>2087455</td>\n",
              "      <td>709 1300 39590 158 67694 55134 166 63072 100 3...</td>\n",
              "    </tr>\n",
              "    <tr>\n",
              "      <th>293</th>\n",
              "      <td>2108759</td>\n",
              "      <td>709 39590 158 166 100 14564 180 67694 73725 13...</td>\n",
              "    </tr>\n",
              "    <tr>\n",
              "      <th>10477</th>\n",
              "      <td>2196801</td>\n",
              "      <td>709 1300 39590 158 67694 55134 166 63072 100 3...</td>\n",
              "    </tr>\n",
              "    <tr>\n",
              "      <th>8727</th>\n",
              "      <td>2234169</td>\n",
              "      <td>709 39590 166 180 158 55133 100 3497419 73725 ...</td>\n",
              "    </tr>\n",
              "    <tr>\n",
              "      <th>4575</th>\n",
              "      <td>2311078</td>\n",
              "      <td>709 166 39590 180 67040 70763 101251 5154 2175...</td>\n",
              "    </tr>\n",
              "    <tr>\n",
              "      <th>6934</th>\n",
              "      <td>2365323</td>\n",
              "      <td>709 166 39590 180 67040 70763 101251 5154 2175...</td>\n",
              "    </tr>\n",
              "    <tr>\n",
              "      <th>11061</th>\n",
              "      <td>2400510</td>\n",
              "      <td>709 166 39590 180 67040 70763 101251 5154 2175...</td>\n",
              "    </tr>\n",
              "    <tr>\n",
              "      <th>8056</th>\n",
              "      <td>2420275</td>\n",
              "      <td>709 39590 166 180 158 55133 100 3497419 73725 ...</td>\n",
              "    </tr>\n",
              "    <tr>\n",
              "      <th>12231</th>\n",
              "      <td>2487198</td>\n",
              "      <td>709 39590 158 166 100 14564 180 67694 73725 13...</td>\n",
              "    </tr>\n",
              "    <tr>\n",
              "      <th>16059</th>\n",
              "      <td>2530085</td>\n",
              "      <td>709 166 39590 180 67040 70763 101251 5154 2175...</td>\n",
              "    </tr>\n",
              "    <tr>\n",
              "      <th>12938</th>\n",
              "      <td>2617286</td>\n",
              "      <td>709 158 39590 166 1300 67694 100 3817484 63072...</td>\n",
              "    </tr>\n",
              "    <tr>\n",
              "      <th>61467</th>\n",
              "      <td>2630483</td>\n",
              "      <td>709 39590 166 180 158 55133 100 3497419 73725 ...</td>\n",
              "    </tr>\n",
              "    <tr>\n",
              "      <th>18352</th>\n",
              "      <td>2915969</td>\n",
              "      <td>709 39590 158 166 100 14564 180 67694 73725 13...</td>\n",
              "    </tr>\n",
              "    <tr>\n",
              "      <th>204510</th>\n",
              "      <td>3417562</td>\n",
              "      <td>709 39590 166 180 158 55133 100 3497419 73725 ...</td>\n",
              "    </tr>\n",
              "  </tbody>\n",
              "</table>\n",
              "</div>"
            ],
            "text/plain": [
              "             Id                                                add\n",
              "3786     214446  709 1300 39590 158 67694 55134 166 63072 100 3...\n",
              "192665  1044049  709 39590 158 166 100 14564 180 67694 73725 13...\n",
              "13544   1625638  709 158 39590 166 1300 67694 100 3817484 63072...\n",
              "1753    1988600  709 39590 158 166 100 14564 180 67694 73725 13...\n",
              "8506    2003146  709 158 39590 166 1300 67694 100 3817484 63072...\n",
              "17983   2087455  709 1300 39590 158 67694 55134 166 63072 100 3...\n",
              "293     2108759  709 39590 158 166 100 14564 180 67694 73725 13...\n",
              "10477   2196801  709 1300 39590 158 67694 55134 166 63072 100 3...\n",
              "8727    2234169  709 39590 166 180 158 55133 100 3497419 73725 ...\n",
              "4575    2311078  709 166 39590 180 67040 70763 101251 5154 2175...\n",
              "6934    2365323  709 166 39590 180 67040 70763 101251 5154 2175...\n",
              "11061   2400510  709 166 39590 180 67040 70763 101251 5154 2175...\n",
              "8056    2420275  709 39590 166 180 158 55133 100 3497419 73725 ...\n",
              "12231   2487198  709 39590 158 166 100 14564 180 67694 73725 13...\n",
              "16059   2530085  709 166 39590 180 67040 70763 101251 5154 2175...\n",
              "12938   2617286  709 158 39590 166 1300 67694 100 3817484 63072...\n",
              "61467   2630483  709 39590 166 180 158 55133 100 3497419 73725 ...\n",
              "18352   2915969  709 39590 158 166 100 14564 180 67694 73725 13...\n",
              "204510  3417562  709 39590 166 180 158 55133 100 3497419 73725 ..."
            ]
          },
          "metadata": {
            "tags": []
          },
          "execution_count": 182
        }
      ]
    },
    {
      "cell_type": "code",
      "metadata": {
        "id": "HfyhtoWVpwF_"
      },
      "source": [
        "user_info = user_info.set_index('Id').drop(tt[tt['Id'] == 2].index.tolist()).reset_index()"
      ],
      "execution_count": 180,
      "outputs": []
    },
    {
      "cell_type": "code",
      "metadata": {
        "id": "9IoNkPRyu-Sg",
        "outputId": "62d98a8e-eeaa-4bc6-85c3-20d74853cc8c",
        "colab": {
          "base_uri": "https://localhost:8080/",
          "height": 419
        }
      },
      "source": [
        "user_info"
      ],
      "execution_count": 181,
      "outputs": [
        {
          "output_type": "execute_result",
          "data": {
            "text/html": [
              "<div>\n",
              "<style scoped>\n",
              "    .dataframe tbody tr th:only-of-type {\n",
              "        vertical-align: middle;\n",
              "    }\n",
              "\n",
              "    .dataframe tbody tr th {\n",
              "        vertical-align: top;\n",
              "    }\n",
              "\n",
              "    .dataframe thead th {\n",
              "        text-align: right;\n",
              "    }\n",
              "</style>\n",
              "<table border=\"1\" class=\"dataframe\">\n",
              "  <thead>\n",
              "    <tr style=\"text-align: right;\">\n",
              "      <th></th>\n",
              "      <th>Id</th>\n",
              "      <th>add</th>\n",
              "    </tr>\n",
              "  </thead>\n",
              "  <tbody>\n",
              "    <tr>\n",
              "      <th>0</th>\n",
              "      <td>1683001</td>\n",
              "      <td>709 39590 158 166 100 14564 180 67694 73725 13...</td>\n",
              "    </tr>\n",
              "    <tr>\n",
              "      <th>1</th>\n",
              "      <td>1288925</td>\n",
              "      <td>709 39590 158 166 100 14564 180 67694 73725 13...</td>\n",
              "    </tr>\n",
              "    <tr>\n",
              "      <th>2</th>\n",
              "      <td>1914497</td>\n",
              "      <td>709 39590 158 166 100 14564 180 67694 73725 13...</td>\n",
              "    </tr>\n",
              "    <tr>\n",
              "      <th>3</th>\n",
              "      <td>631583</td>\n",
              "      <td>709 39590 158 166 100 14564 180 67694 73725 13...</td>\n",
              "    </tr>\n",
              "    <tr>\n",
              "      <th>4</th>\n",
              "      <td>2106256</td>\n",
              "      <td>709 158 39590 166 1300 67694 100 3817484 63072...</td>\n",
              "    </tr>\n",
              "    <tr>\n",
              "      <th>...</th>\n",
              "      <td>...</td>\n",
              "      <td>...</td>\n",
              "    </tr>\n",
              "    <tr>\n",
              "      <th>206504</th>\n",
              "      <td>3424212</td>\n",
              "      <td>709 39590 166 180 158 55133 100 3497419 73725 ...</td>\n",
              "    </tr>\n",
              "    <tr>\n",
              "      <th>206505</th>\n",
              "      <td>3424222</td>\n",
              "      <td>709 158 39590 166 1300 67694 100 3817484 63072...</td>\n",
              "    </tr>\n",
              "    <tr>\n",
              "      <th>206506</th>\n",
              "      <td>3424225</td>\n",
              "      <td>709 39590 158 166 100 14564 180 67694 73725 13...</td>\n",
              "    </tr>\n",
              "    <tr>\n",
              "      <th>206507</th>\n",
              "      <td>3424228</td>\n",
              "      <td>709 39590 166 180 158 55133 100 3497419 73725 ...</td>\n",
              "    </tr>\n",
              "    <tr>\n",
              "      <th>206508</th>\n",
              "      <td>797420</td>\n",
              "      <td>709 39590 158 166 100 14564 180 67694 73725 13...</td>\n",
              "    </tr>\n",
              "  </tbody>\n",
              "</table>\n",
              "<p>206509 rows × 2 columns</p>\n",
              "</div>"
            ],
            "text/plain": [
              "             Id                                                add\n",
              "0       1683001  709 39590 158 166 100 14564 180 67694 73725 13...\n",
              "1       1288925  709 39590 158 166 100 14564 180 67694 73725 13...\n",
              "2       1914497  709 39590 158 166 100 14564 180 67694 73725 13...\n",
              "3        631583  709 39590 158 166 100 14564 180 67694 73725 13...\n",
              "4       2106256  709 158 39590 166 1300 67694 100 3817484 63072...\n",
              "...         ...                                                ...\n",
              "206504  3424212  709 39590 166 180 158 55133 100 3497419 73725 ...\n",
              "206505  3424222  709 158 39590 166 1300 67694 100 3817484 63072...\n",
              "206506  3424225  709 39590 158 166 100 14564 180 67694 73725 13...\n",
              "206507  3424228  709 39590 166 180 158 55133 100 3497419 73725 ...\n",
              "206508   797420  709 39590 158 166 100 14564 180 67694 73725 13...\n",
              "\n",
              "[206509 rows x 2 columns]"
            ]
          },
          "metadata": {
            "tags": []
          },
          "execution_count": 181
        }
      ]
    },
    {
      "cell_type": "code",
      "metadata": {
        "id": "qbuNMVoNtgKo"
      },
      "source": [
        "user_info = pd.concat([user_info, dob])"
      ],
      "execution_count": 183,
      "outputs": []
    },
    {
      "cell_type": "code",
      "metadata": {
        "id": "eaSDpp9puDso",
        "outputId": "bbd7d25d-de1b-4953-d4f8-30a9d668b3d6",
        "colab": {
          "base_uri": "https://localhost:8080/",
          "height": 419
        }
      },
      "source": [
        "user_info"
      ],
      "execution_count": 184,
      "outputs": [
        {
          "output_type": "execute_result",
          "data": {
            "text/html": [
              "<div>\n",
              "<style scoped>\n",
              "    .dataframe tbody tr th:only-of-type {\n",
              "        vertical-align: middle;\n",
              "    }\n",
              "\n",
              "    .dataframe tbody tr th {\n",
              "        vertical-align: top;\n",
              "    }\n",
              "\n",
              "    .dataframe thead th {\n",
              "        text-align: right;\n",
              "    }\n",
              "</style>\n",
              "<table border=\"1\" class=\"dataframe\">\n",
              "  <thead>\n",
              "    <tr style=\"text-align: right;\">\n",
              "      <th></th>\n",
              "      <th>Id</th>\n",
              "      <th>add</th>\n",
              "    </tr>\n",
              "  </thead>\n",
              "  <tbody>\n",
              "    <tr>\n",
              "      <th>0</th>\n",
              "      <td>1683001</td>\n",
              "      <td>709 39590 158 166 100 14564 180 67694 73725 13...</td>\n",
              "    </tr>\n",
              "    <tr>\n",
              "      <th>1</th>\n",
              "      <td>1288925</td>\n",
              "      <td>709 39590 158 166 100 14564 180 67694 73725 13...</td>\n",
              "    </tr>\n",
              "    <tr>\n",
              "      <th>2</th>\n",
              "      <td>1914497</td>\n",
              "      <td>709 39590 158 166 100 14564 180 67694 73725 13...</td>\n",
              "    </tr>\n",
              "    <tr>\n",
              "      <th>3</th>\n",
              "      <td>631583</td>\n",
              "      <td>709 39590 158 166 100 14564 180 67694 73725 13...</td>\n",
              "    </tr>\n",
              "    <tr>\n",
              "      <th>4</th>\n",
              "      <td>2106256</td>\n",
              "      <td>709 158 39590 166 1300 67694 100 3817484 63072...</td>\n",
              "    </tr>\n",
              "    <tr>\n",
              "      <th>...</th>\n",
              "      <td>...</td>\n",
              "      <td>...</td>\n",
              "    </tr>\n",
              "    <tr>\n",
              "      <th>16059</th>\n",
              "      <td>2530085</td>\n",
              "      <td>709 166 39590 180 67040 70763 101251 5154 2175...</td>\n",
              "    </tr>\n",
              "    <tr>\n",
              "      <th>12938</th>\n",
              "      <td>2617286</td>\n",
              "      <td>709 158 39590 166 1300 67694 100 3817484 63072...</td>\n",
              "    </tr>\n",
              "    <tr>\n",
              "      <th>61467</th>\n",
              "      <td>2630483</td>\n",
              "      <td>709 39590 166 180 158 55133 100 3497419 73725 ...</td>\n",
              "    </tr>\n",
              "    <tr>\n",
              "      <th>18352</th>\n",
              "      <td>2915969</td>\n",
              "      <td>709 39590 158 166 100 14564 180 67694 73725 13...</td>\n",
              "    </tr>\n",
              "    <tr>\n",
              "      <th>204510</th>\n",
              "      <td>3417562</td>\n",
              "      <td>709 39590 166 180 158 55133 100 3497419 73725 ...</td>\n",
              "    </tr>\n",
              "  </tbody>\n",
              "</table>\n",
              "<p>206528 rows × 2 columns</p>\n",
              "</div>"
            ],
            "text/plain": [
              "             Id                                                add\n",
              "0       1683001  709 39590 158 166 100 14564 180 67694 73725 13...\n",
              "1       1288925  709 39590 158 166 100 14564 180 67694 73725 13...\n",
              "2       1914497  709 39590 158 166 100 14564 180 67694 73725 13...\n",
              "3        631583  709 39590 158 166 100 14564 180 67694 73725 13...\n",
              "4       2106256  709 158 39590 166 1300 67694 100 3817484 63072...\n",
              "...         ...                                                ...\n",
              "16059   2530085  709 166 39590 180 67040 70763 101251 5154 2175...\n",
              "12938   2617286  709 158 39590 166 1300 67694 100 3817484 63072...\n",
              "61467   2630483  709 39590 166 180 158 55133 100 3497419 73725 ...\n",
              "18352   2915969  709 39590 158 166 100 14564 180 67694 73725 13...\n",
              "204510  3417562  709 39590 166 180 158 55133 100 3497419 73725 ...\n",
              "\n",
              "[206528 rows x 2 columns]"
            ]
          },
          "metadata": {
            "tags": []
          },
          "execution_count": 184
        }
      ]
    },
    {
      "cell_type": "code",
      "metadata": {
        "id": "Tm_PZ8JRGCTP"
      },
      "source": [
        "tmp_merged_1 = tmp.join(user_info)"
      ],
      "execution_count": 15,
      "outputs": []
    },
    {
      "cell_type": "code",
      "metadata": {
        "id": "Z7O-AEf0tpk4",
        "outputId": "5a28e549-4a54-4297-bdde-f4b83f6b6f5e",
        "colab": {
          "base_uri": "https://localhost:8080/",
          "height": 419
        }
      },
      "source": [
        "user_info"
      ],
      "execution_count": 159,
      "outputs": [
        {
          "output_type": "execute_result",
          "data": {
            "text/html": [
              "<div>\n",
              "<style scoped>\n",
              "    .dataframe tbody tr th:only-of-type {\n",
              "        vertical-align: middle;\n",
              "    }\n",
              "\n",
              "    .dataframe tbody tr th {\n",
              "        vertical-align: top;\n",
              "    }\n",
              "\n",
              "    .dataframe thead th {\n",
              "        text-align: right;\n",
              "    }\n",
              "</style>\n",
              "<table border=\"1\" class=\"dataframe\">\n",
              "  <thead>\n",
              "    <tr style=\"text-align: right;\">\n",
              "      <th></th>\n",
              "      <th>add</th>\n",
              "      <th>Id</th>\n",
              "    </tr>\n",
              "  </thead>\n",
              "  <tbody>\n",
              "    <tr>\n",
              "      <th>1683001</th>\n",
              "      <td>709 39590 158 166 100 14564 180 67694 73725 13...</td>\n",
              "      <td>NaN</td>\n",
              "    </tr>\n",
              "    <tr>\n",
              "      <th>1288925</th>\n",
              "      <td>709 39590 158 166 100 14564 180 67694 73725 13...</td>\n",
              "      <td>NaN</td>\n",
              "    </tr>\n",
              "    <tr>\n",
              "      <th>1914497</th>\n",
              "      <td>709 39590 158 166 100 14564 180 67694 73725 13...</td>\n",
              "      <td>NaN</td>\n",
              "    </tr>\n",
              "    <tr>\n",
              "      <th>631583</th>\n",
              "      <td>709 39590 158 166 100 14564 180 67694 73725 13...</td>\n",
              "      <td>NaN</td>\n",
              "    </tr>\n",
              "    <tr>\n",
              "      <th>2106256</th>\n",
              "      <td>709 158 39590 166 1300 67694 100 3817484 63072...</td>\n",
              "      <td>NaN</td>\n",
              "    </tr>\n",
              "    <tr>\n",
              "      <th>...</th>\n",
              "      <td>...</td>\n",
              "      <td>...</td>\n",
              "    </tr>\n",
              "    <tr>\n",
              "      <th>16059</th>\n",
              "      <td>709 166 39590 180 67040 70763 101251 5154 2175...</td>\n",
              "      <td>2530085.0</td>\n",
              "    </tr>\n",
              "    <tr>\n",
              "      <th>12938</th>\n",
              "      <td>709 158 39590 166 1300 67694 100 3817484 63072...</td>\n",
              "      <td>2617286.0</td>\n",
              "    </tr>\n",
              "    <tr>\n",
              "      <th>61467</th>\n",
              "      <td>709 39590 166 180 158 55133 100 3497419 73725 ...</td>\n",
              "      <td>2630483.0</td>\n",
              "    </tr>\n",
              "    <tr>\n",
              "      <th>18352</th>\n",
              "      <td>709 39590 158 166 100 14564 180 67694 73725 13...</td>\n",
              "      <td>2915969.0</td>\n",
              "    </tr>\n",
              "    <tr>\n",
              "      <th>204510</th>\n",
              "      <td>709 39590 166 180 158 55133 100 3497419 73725 ...</td>\n",
              "      <td>3417562.0</td>\n",
              "    </tr>\n",
              "  </tbody>\n",
              "</table>\n",
              "<p>206528 rows × 2 columns</p>\n",
              "</div>"
            ],
            "text/plain": [
              "                                                       add         Id\n",
              "1683001  709 39590 158 166 100 14564 180 67694 73725 13...        NaN\n",
              "1288925  709 39590 158 166 100 14564 180 67694 73725 13...        NaN\n",
              "1914497  709 39590 158 166 100 14564 180 67694 73725 13...        NaN\n",
              "631583   709 39590 158 166 100 14564 180 67694 73725 13...        NaN\n",
              "2106256  709 158 39590 166 1300 67694 100 3817484 63072...        NaN\n",
              "...                                                    ...        ...\n",
              "16059    709 166 39590 180 67040 70763 101251 5154 2175...  2530085.0\n",
              "12938    709 158 39590 166 1300 67694 100 3817484 63072...  2617286.0\n",
              "61467    709 39590 166 180 158 55133 100 3497419 73725 ...  2630483.0\n",
              "18352    709 39590 158 166 100 14564 180 67694 73725 13...  2915969.0\n",
              "204510   709 39590 166 180 158 55133 100 3497419 73725 ...  3417562.0\n",
              "\n",
              "[206528 rows x 2 columns]"
            ]
          },
          "metadata": {
            "tags": []
          },
          "execution_count": 159
        }
      ]
    },
    {
      "cell_type": "code",
      "metadata": {
        "id": "fXfpnKa7ZCzh",
        "outputId": "03ed72f9-0445-4c24-8975-3aff136ffb84",
        "colab": {
          "base_uri": "https://localhost:8080/",
          "height": 221
        }
      },
      "source": [
        "tmp.order_created_time.value_counts().sort_index()"
      ],
      "execution_count": 11,
      "outputs": [
        {
          "output_type": "execute_result",
          "data": {
            "text/plain": [
              "2020-01-01 10:20:46    26\n",
              "2020-01-01 11:25:45    12\n",
              "2020-01-01 13:00:32    28\n",
              "2020-01-01 14:53:12     7\n",
              "2020-01-02 05:39:56    21\n",
              "                       ..\n",
              "2020-09-16 21:19:44    21\n",
              "2020-09-16 21:51:24     4\n",
              "2020-09-16 22:10:57     9\n",
              "2020-09-16 22:30:31    26\n",
              "2020-09-16 22:57:36    10\n",
              "Name: order_created_time, Length: 224646, dtype: int64"
            ]
          },
          "metadata": {
            "tags": []
          },
          "execution_count": 11
        }
      ]
    },
    {
      "cell_type": "code",
      "metadata": {
        "id": "KHjmXQMzZAQA"
      },
      "source": [
        "tmp_merged_1.dropna(inplace=True)"
      ],
      "execution_count": 16,
      "outputs": []
    },
    {
      "cell_type": "code",
      "metadata": {
        "id": "SdaXxpHOaf0q",
        "outputId": "2bfe319e-7e2d-4278-abb3-d21128f99d8e",
        "colab": {
          "base_uri": "https://localhost:8080/",
          "height": 844
        }
      },
      "source": [
        "tmp_merged_1"
      ],
      "execution_count": 17,
      "outputs": [
        {
          "output_type": "execute_result",
          "data": {
            "text/html": [
              "<div>\n",
              "<style scoped>\n",
              "    .dataframe tbody tr th:only-of-type {\n",
              "        vertical-align: middle;\n",
              "    }\n",
              "\n",
              "    .dataframe tbody tr th {\n",
              "        vertical-align: top;\n",
              "    }\n",
              "\n",
              "    .dataframe thead th {\n",
              "        text-align: right;\n",
              "    }\n",
              "</style>\n",
              "<table border=\"1\" class=\"dataframe\">\n",
              "  <thead>\n",
              "    <tr style=\"text-align: right;\">\n",
              "      <th></th>\n",
              "      <th>level_0</th>\n",
              "      <th>Unnamed: 0</th>\n",
              "      <th>index</th>\n",
              "      <th>order_id</th>\n",
              "      <th>line_item_id</th>\n",
              "      <th>price</th>\n",
              "      <th>quantity</th>\n",
              "      <th>discount</th>\n",
              "      <th>product_name</th>\n",
              "      <th>product_id</th>\n",
              "      <th>brand_name</th>\n",
              "      <th>master_category_id</th>\n",
              "      <th>parent_category_id</th>\n",
              "      <th>order_created_time</th>\n",
              "      <th>gender</th>\n",
              "      <th>bdate</th>\n",
              "    </tr>\n",
              "    <tr>\n",
              "      <th>user_id</th>\n",
              "      <th></th>\n",
              "      <th></th>\n",
              "      <th></th>\n",
              "      <th></th>\n",
              "      <th></th>\n",
              "      <th></th>\n",
              "      <th></th>\n",
              "      <th></th>\n",
              "      <th></th>\n",
              "      <th></th>\n",
              "      <th></th>\n",
              "      <th></th>\n",
              "      <th></th>\n",
              "      <th></th>\n",
              "      <th></th>\n",
              "      <th></th>\n",
              "    </tr>\n",
              "  </thead>\n",
              "  <tbody>\n",
              "    <tr>\n",
              "      <th>3011</th>\n",
              "      <td>1572641</td>\n",
              "      <td>3256610</td>\n",
              "      <td>3256610</td>\n",
              "      <td>13624785</td>\n",
              "      <td>165259777</td>\n",
              "      <td>24.900000</td>\n",
              "      <td>3</td>\n",
              "      <td>0.000000</td>\n",
              "      <td>Печенье Юбилейное Традиционное витаминизированное</td>\n",
              "      <td>21904</td>\n",
              "      <td>Юбилейное</td>\n",
              "      <td>600.0</td>\n",
              "      <td>56</td>\n",
              "      <td>2020-07-18 13:19:52</td>\n",
              "      <td>male</td>\n",
              "      <td>1972-10-06 00:00:00</td>\n",
              "    </tr>\n",
              "    <tr>\n",
              "      <th>3011</th>\n",
              "      <td>1572643</td>\n",
              "      <td>3256612</td>\n",
              "      <td>3256612</td>\n",
              "      <td>13624785</td>\n",
              "      <td>165260456</td>\n",
              "      <td>67.989998</td>\n",
              "      <td>1</td>\n",
              "      <td>0.000000</td>\n",
              "      <td>Печенье Любятово Постное затяжное 300 г</td>\n",
              "      <td>38105</td>\n",
              "      <td>Любятово</td>\n",
              "      <td>600.0</td>\n",
              "      <td>56</td>\n",
              "      <td>2020-07-18 13:19:52</td>\n",
              "      <td>male</td>\n",
              "      <td>1972-10-06 00:00:00</td>\n",
              "    </tr>\n",
              "    <tr>\n",
              "      <th>3011</th>\n",
              "      <td>1572644</td>\n",
              "      <td>3256613</td>\n",
              "      <td>3256613</td>\n",
              "      <td>13624785</td>\n",
              "      <td>165262611</td>\n",
              "      <td>75.989998</td>\n",
              "      <td>2</td>\n",
              "      <td>0.000000</td>\n",
              "      <td>Крекер Tuc мини со вкусом сметаны и лука 100 г</td>\n",
              "      <td>5074244</td>\n",
              "      <td>Tuc</td>\n",
              "      <td>600.0</td>\n",
              "      <td>56</td>\n",
              "      <td>2020-07-18 13:19:52</td>\n",
              "      <td>male</td>\n",
              "      <td>1972-10-06 00:00:00</td>\n",
              "    </tr>\n",
              "    <tr>\n",
              "      <th>3011</th>\n",
              "      <td>1572645</td>\n",
              "      <td>3256614</td>\n",
              "      <td>3256614</td>\n",
              "      <td>13624785</td>\n",
              "      <td>165263313</td>\n",
              "      <td>91.989998</td>\n",
              "      <td>3</td>\n",
              "      <td>0.000000</td>\n",
              "      <td>Чипсы Lay's Молодой зеленый лук 150 г</td>\n",
              "      <td>1590</td>\n",
              "      <td>Lay's</td>\n",
              "      <td>610.0</td>\n",
              "      <td>19</td>\n",
              "      <td>2020-07-18 13:19:52</td>\n",
              "      <td>male</td>\n",
              "      <td>1972-10-06 00:00:00</td>\n",
              "    </tr>\n",
              "    <tr>\n",
              "      <th>3011</th>\n",
              "      <td>1572646</td>\n",
              "      <td>3256615</td>\n",
              "      <td>3256615</td>\n",
              "      <td>13624785</td>\n",
              "      <td>165263758</td>\n",
              "      <td>147.990005</td>\n",
              "      <td>1</td>\n",
              "      <td>0.000000</td>\n",
              "      <td>Чипсы Lay's Молодой зеленый лук 240 г</td>\n",
              "      <td>101253</td>\n",
              "      <td>Lay's</td>\n",
              "      <td>610.0</td>\n",
              "      <td>19</td>\n",
              "      <td>2020-07-18 13:19:52</td>\n",
              "      <td>male</td>\n",
              "      <td>1972-10-06 00:00:00</td>\n",
              "    </tr>\n",
              "    <tr>\n",
              "      <th>...</th>\n",
              "      <td>...</td>\n",
              "      <td>...</td>\n",
              "      <td>...</td>\n",
              "      <td>...</td>\n",
              "      <td>...</td>\n",
              "      <td>...</td>\n",
              "      <td>...</td>\n",
              "      <td>...</td>\n",
              "      <td>...</td>\n",
              "      <td>...</td>\n",
              "      <td>...</td>\n",
              "      <td>...</td>\n",
              "      <td>...</td>\n",
              "      <td>...</td>\n",
              "      <td>...</td>\n",
              "      <td>...</td>\n",
              "    </tr>\n",
              "    <tr>\n",
              "      <th>3142509</th>\n",
              "      <td>1572113</td>\n",
              "      <td>3254694</td>\n",
              "      <td>3254694</td>\n",
              "      <td>16828798</td>\n",
              "      <td>173246318</td>\n",
              "      <td>154.990005</td>\n",
              "      <td>1</td>\n",
              "      <td>165.000000</td>\n",
              "      <td>Дамплинги Bibigo Мини 370 г</td>\n",
              "      <td>5629995</td>\n",
              "      <td>Bibigo</td>\n",
              "      <td>643.0</td>\n",
              "      <td>99</td>\n",
              "      <td>2020-09-16 20:10:59</td>\n",
              "      <td>male</td>\n",
              "      <td>1997-08-02 00:00:00</td>\n",
              "    </tr>\n",
              "    <tr>\n",
              "      <th>3142509</th>\n",
              "      <td>1572114</td>\n",
              "      <td>3254695</td>\n",
              "      <td>3254695</td>\n",
              "      <td>16828798</td>\n",
              "      <td>173247081</td>\n",
              "      <td>89.889999</td>\n",
              "      <td>1</td>\n",
              "      <td>49.799999</td>\n",
              "      <td>Напиток сокосодержащий Любимый апельсин-манго ...</td>\n",
              "      <td>58083</td>\n",
              "      <td>Любимый</td>\n",
              "      <td>630.0</td>\n",
              "      <td>74</td>\n",
              "      <td>2020-09-16 20:10:59</td>\n",
              "      <td>male</td>\n",
              "      <td>1997-08-02 00:00:00</td>\n",
              "    </tr>\n",
              "    <tr>\n",
              "      <th>3142509</th>\n",
              "      <td>1572115</td>\n",
              "      <td>3254696</td>\n",
              "      <td>3254696</td>\n",
              "      <td>16828798</td>\n",
              "      <td>173354767</td>\n",
              "      <td>73.690002</td>\n",
              "      <td>1</td>\n",
              "      <td>0.000000</td>\n",
              "      <td>Чипсы Doritos Taco кукурузные Пряная паприка 1...</td>\n",
              "      <td>6694773</td>\n",
              "      <td>Doritos</td>\n",
              "      <td>610.0</td>\n",
              "      <td>19</td>\n",
              "      <td>2020-09-16 20:10:59</td>\n",
              "      <td>male</td>\n",
              "      <td>1997-08-02 00:00:00</td>\n",
              "    </tr>\n",
              "    <tr>\n",
              "      <th>3142509</th>\n",
              "      <td>1572116</td>\n",
              "      <td>3254697</td>\n",
              "      <td>3254697</td>\n",
              "      <td>16828798</td>\n",
              "      <td>173354840</td>\n",
              "      <td>73.690002</td>\n",
              "      <td>1</td>\n",
              "      <td>0.000000</td>\n",
              "      <td>Чипсы Doritos HotCorn кукурузные Острый перец ...</td>\n",
              "      <td>6694771</td>\n",
              "      <td>Doritos</td>\n",
              "      <td>610.0</td>\n",
              "      <td>19</td>\n",
              "      <td>2020-09-16 20:10:59</td>\n",
              "      <td>male</td>\n",
              "      <td>1997-08-02 00:00:00</td>\n",
              "    </tr>\n",
              "    <tr>\n",
              "      <th>3142509</th>\n",
              "      <td>1572117</td>\n",
              "      <td>3254698</td>\n",
              "      <td>3254698</td>\n",
              "      <td>16828798</td>\n",
              "      <td>173362661</td>\n",
              "      <td>178.990005</td>\n",
              "      <td>1</td>\n",
              "      <td>0.000000</td>\n",
              "      <td>Филе медальон куриное Петелинка охлажденное 450 г</td>\n",
              "      <td>7032787</td>\n",
              "      <td>Петелинка</td>\n",
              "      <td>122.0</td>\n",
              "      <td>119</td>\n",
              "      <td>2020-09-16 20:10:59</td>\n",
              "      <td>male</td>\n",
              "      <td>1997-08-02 00:00:00</td>\n",
              "    </tr>\n",
              "  </tbody>\n",
              "</table>\n",
              "<p>333778 rows × 16 columns</p>\n",
              "</div>"
            ],
            "text/plain": [
              "         level_0  Unnamed: 0  ...  gender                bdate\n",
              "user_id                       ...                             \n",
              "3011     1572641     3256610  ...    male  1972-10-06 00:00:00\n",
              "3011     1572643     3256612  ...    male  1972-10-06 00:00:00\n",
              "3011     1572644     3256613  ...    male  1972-10-06 00:00:00\n",
              "3011     1572645     3256614  ...    male  1972-10-06 00:00:00\n",
              "3011     1572646     3256615  ...    male  1972-10-06 00:00:00\n",
              "...          ...         ...  ...     ...                  ...\n",
              "3142509  1572113     3254694  ...    male  1997-08-02 00:00:00\n",
              "3142509  1572114     3254695  ...    male  1997-08-02 00:00:00\n",
              "3142509  1572115     3254696  ...    male  1997-08-02 00:00:00\n",
              "3142509  1572116     3254697  ...    male  1997-08-02 00:00:00\n",
              "3142509  1572117     3254698  ...    male  1997-08-02 00:00:00\n",
              "\n",
              "[333778 rows x 16 columns]"
            ]
          },
          "metadata": {
            "tags": []
          },
          "execution_count": 17
        }
      ]
    },
    {
      "cell_type": "code",
      "metadata": {
        "id": "F1rAPGq_bY15"
      },
      "source": [
        "tmp_merged_1 = tmp_merged_1.drop(['order_id','line_item_id','quantity','discount',\n",
        "                                  'product_name','brand_name', 'parent_category_id','master_category_id','price','index','level_0','Unnamed: 0'], axis=1)\n",
        "tmp_merged_1.drop_duplicates(inplace=True)"
      ],
      "execution_count": 18,
      "outputs": []
    },
    {
      "cell_type": "code",
      "metadata": {
        "id": "8R1Y06uMXZqG",
        "outputId": "3ae57602-3d52-4b82-9707-5f73955b8009",
        "colab": {
          "base_uri": "https://localhost:8080/",
          "height": 450
        }
      },
      "source": [
        "tmp_merged_1"
      ],
      "execution_count": 19,
      "outputs": [
        {
          "output_type": "execute_result",
          "data": {
            "text/html": [
              "<div>\n",
              "<style scoped>\n",
              "    .dataframe tbody tr th:only-of-type {\n",
              "        vertical-align: middle;\n",
              "    }\n",
              "\n",
              "    .dataframe tbody tr th {\n",
              "        vertical-align: top;\n",
              "    }\n",
              "\n",
              "    .dataframe thead th {\n",
              "        text-align: right;\n",
              "    }\n",
              "</style>\n",
              "<table border=\"1\" class=\"dataframe\">\n",
              "  <thead>\n",
              "    <tr style=\"text-align: right;\">\n",
              "      <th></th>\n",
              "      <th>product_id</th>\n",
              "      <th>order_created_time</th>\n",
              "      <th>gender</th>\n",
              "      <th>bdate</th>\n",
              "    </tr>\n",
              "    <tr>\n",
              "      <th>user_id</th>\n",
              "      <th></th>\n",
              "      <th></th>\n",
              "      <th></th>\n",
              "      <th></th>\n",
              "    </tr>\n",
              "  </thead>\n",
              "  <tbody>\n",
              "    <tr>\n",
              "      <th>3011</th>\n",
              "      <td>21904</td>\n",
              "      <td>2020-07-18 13:19:52</td>\n",
              "      <td>male</td>\n",
              "      <td>1972-10-06 00:00:00</td>\n",
              "    </tr>\n",
              "    <tr>\n",
              "      <th>3011</th>\n",
              "      <td>38105</td>\n",
              "      <td>2020-07-18 13:19:52</td>\n",
              "      <td>male</td>\n",
              "      <td>1972-10-06 00:00:00</td>\n",
              "    </tr>\n",
              "    <tr>\n",
              "      <th>3011</th>\n",
              "      <td>5074244</td>\n",
              "      <td>2020-07-18 13:19:52</td>\n",
              "      <td>male</td>\n",
              "      <td>1972-10-06 00:00:00</td>\n",
              "    </tr>\n",
              "    <tr>\n",
              "      <th>3011</th>\n",
              "      <td>1590</td>\n",
              "      <td>2020-07-18 13:19:52</td>\n",
              "      <td>male</td>\n",
              "      <td>1972-10-06 00:00:00</td>\n",
              "    </tr>\n",
              "    <tr>\n",
              "      <th>3011</th>\n",
              "      <td>101253</td>\n",
              "      <td>2020-07-18 13:19:52</td>\n",
              "      <td>male</td>\n",
              "      <td>1972-10-06 00:00:00</td>\n",
              "    </tr>\n",
              "    <tr>\n",
              "      <th>...</th>\n",
              "      <td>...</td>\n",
              "      <td>...</td>\n",
              "      <td>...</td>\n",
              "      <td>...</td>\n",
              "    </tr>\n",
              "    <tr>\n",
              "      <th>3142509</th>\n",
              "      <td>5629995</td>\n",
              "      <td>2020-09-16 20:10:59</td>\n",
              "      <td>male</td>\n",
              "      <td>1997-08-02 00:00:00</td>\n",
              "    </tr>\n",
              "    <tr>\n",
              "      <th>3142509</th>\n",
              "      <td>58083</td>\n",
              "      <td>2020-09-16 20:10:59</td>\n",
              "      <td>male</td>\n",
              "      <td>1997-08-02 00:00:00</td>\n",
              "    </tr>\n",
              "    <tr>\n",
              "      <th>3142509</th>\n",
              "      <td>6694773</td>\n",
              "      <td>2020-09-16 20:10:59</td>\n",
              "      <td>male</td>\n",
              "      <td>1997-08-02 00:00:00</td>\n",
              "    </tr>\n",
              "    <tr>\n",
              "      <th>3142509</th>\n",
              "      <td>6694771</td>\n",
              "      <td>2020-09-16 20:10:59</td>\n",
              "      <td>male</td>\n",
              "      <td>1997-08-02 00:00:00</td>\n",
              "    </tr>\n",
              "    <tr>\n",
              "      <th>3142509</th>\n",
              "      <td>7032787</td>\n",
              "      <td>2020-09-16 20:10:59</td>\n",
              "      <td>male</td>\n",
              "      <td>1997-08-02 00:00:00</td>\n",
              "    </tr>\n",
              "  </tbody>\n",
              "</table>\n",
              "<p>321235 rows × 4 columns</p>\n",
              "</div>"
            ],
            "text/plain": [
              "         product_id   order_created_time gender                bdate\n",
              "user_id                                                             \n",
              "3011          21904  2020-07-18 13:19:52   male  1972-10-06 00:00:00\n",
              "3011          38105  2020-07-18 13:19:52   male  1972-10-06 00:00:00\n",
              "3011        5074244  2020-07-18 13:19:52   male  1972-10-06 00:00:00\n",
              "3011           1590  2020-07-18 13:19:52   male  1972-10-06 00:00:00\n",
              "3011         101253  2020-07-18 13:19:52   male  1972-10-06 00:00:00\n",
              "...             ...                  ...    ...                  ...\n",
              "3142509     5629995  2020-09-16 20:10:59   male  1997-08-02 00:00:00\n",
              "3142509       58083  2020-09-16 20:10:59   male  1997-08-02 00:00:00\n",
              "3142509     6694773  2020-09-16 20:10:59   male  1997-08-02 00:00:00\n",
              "3142509     6694771  2020-09-16 20:10:59   male  1997-08-02 00:00:00\n",
              "3142509     7032787  2020-09-16 20:10:59   male  1997-08-02 00:00:00\n",
              "\n",
              "[321235 rows x 4 columns]"
            ]
          },
          "metadata": {
            "tags": []
          },
          "execution_count": 19
        }
      ]
    },
    {
      "cell_type": "code",
      "metadata": {
        "id": "TtoL6MnOZbjB"
      },
      "source": [
        "tmp_merged_1['order_created_time'] = tmp_merged_1['order_created_time'].apply(pd.to_datetime)"
      ],
      "execution_count": 20,
      "outputs": []
    },
    {
      "cell_type": "code",
      "metadata": {
        "id": "zRe7PAimeRDZ",
        "outputId": "66f9d82e-9de5-4214-b667-b15261980011",
        "colab": {
          "base_uri": "https://localhost:8080/",
          "height": 35
        }
      },
      "source": [
        "str(tmp_merged_1['bdate'].iloc[0])"
      ],
      "execution_count": null,
      "outputs": [
        {
          "output_type": "execute_result",
          "data": {
            "application/vnd.google.colaboratory.intrinsic+json": {
              "type": "string"
            },
            "text/plain": [
              "'1972-10-06 00:00:00'"
            ]
          },
          "metadata": {
            "tags": []
          },
          "execution_count": 35
        }
      ]
    },
    {
      "cell_type": "code",
      "metadata": {
        "id": "A0CtclIfd571"
      },
      "source": [
        "tmp_merged_1['bdate'] = tmp_merged_1['bdate'].apply(str)"
      ],
      "execution_count": 21,
      "outputs": []
    },
    {
      "cell_type": "code",
      "metadata": {
        "id": "xAYowtFae7wT"
      },
      "source": [
        "tmp_merged_1['bdate'] = tmp_merged_1['bdate'].apply(pd.to_datetime, format='%Y-%m-%d %H:%M:%S', errors='coerce')"
      ],
      "execution_count": 22,
      "outputs": []
    },
    {
      "cell_type": "code",
      "metadata": {
        "id": "w9FfiVLpdzs2",
        "outputId": "b48777db-d8a8-4c67-90b1-1680654d7252",
        "colab": {
          "base_uri": "https://localhost:8080/",
          "height": 102
        }
      },
      "source": [
        "tmp_merged_1.dtypes"
      ],
      "execution_count": null,
      "outputs": [
        {
          "output_type": "execute_result",
          "data": {
            "text/plain": [
              "product_id                     int64\n",
              "order_created_time    datetime64[ns]\n",
              "gender                        object\n",
              "bdate                 datetime64[ns]\n",
              "dtype: object"
            ]
          },
          "metadata": {
            "tags": []
          },
          "execution_count": 20
        }
      ]
    },
    {
      "cell_type": "code",
      "metadata": {
        "id": "oxCoDekSgN3L",
        "outputId": "96bcc417-8065-47f2-c70b-85e56d14cb5b",
        "colab": {
          "base_uri": "https://localhost:8080/",
          "height": 34
        }
      },
      "source": [
        "(tmp_merged_1['bdate'].iloc[0] -  tmp_merged_1['order_created_time'].iloc[0]).days / 365"
      ],
      "execution_count": null,
      "outputs": [
        {
          "output_type": "execute_result",
          "data": {
            "text/plain": [
              "-47.81643835616438"
            ]
          },
          "metadata": {
            "tags": []
          },
          "execution_count": 50
        }
      ]
    },
    {
      "cell_type": "code",
      "metadata": {
        "id": "Pqichjfpi8Fz"
      },
      "source": [
        "tmp_merged_1.dropna(inplace=True)"
      ],
      "execution_count": 23,
      "outputs": []
    },
    {
      "cell_type": "code",
      "metadata": {
        "id": "_bEckPw7dbpg"
      },
      "source": [
        "tmp_merged_1['age'] = tmp_merged_1[['order_created_time','bdate']].apply(lambda x: int((x[0] - x[1]).days / 365), axis=1)"
      ],
      "execution_count": 24,
      "outputs": []
    },
    {
      "cell_type": "code",
      "metadata": {
        "id": "TSYDESQ4kL0O"
      },
      "source": [
        "tmp_merged_1 = tmp_merged_1[(tmp_merged_1['age'] > 6) & (tmp_merged_1['age'] < 81)]"
      ],
      "execution_count": 25,
      "outputs": []
    },
    {
      "cell_type": "code",
      "metadata": {
        "id": "q3gfiYrxp2v-",
        "outputId": "e0be3306-c68b-45a9-b60b-788d9244f4af",
        "colab": {
          "base_uri": "https://localhost:8080/",
          "height": 265
        }
      },
      "source": [
        "import matplotlib.pyplot as plt\n",
        "plt.hist(tmp_merged_1['age']);"
      ],
      "execution_count": 26,
      "outputs": [
        {
          "output_type": "display_data",
          "data": {
            "image/png": "[encoded data removed]",
            "text/plain": [
              "<Figure size 432x288 with 1 Axes>"
            ]
          },
          "metadata": {
            "tags": [],
            "needs_background": "light"
          }
        }
      ]
    },
    {
      "cell_type": "code",
      "metadata": {
        "id": "4t29u3hgoxOL"
      },
      "source": [
        "def age_category(x):\n",
        "  if x < 20:\n",
        "    return 1\n",
        "  if x >= 20 and x < 30:\n",
        "    return 2\n",
        "  if x >= 30 and x < 40:\n",
        "    return 3\n",
        "  if x >=40  and x < 50:\n",
        "    return 4\n",
        "  if x >=50:\n",
        "    return 5"
      ],
      "execution_count": 27,
      "outputs": []
    },
    {
      "cell_type": "code",
      "metadata": {
        "id": "v8AldpN1wZ7j",
        "outputId": "098ae8c2-1ecb-44ab-be79-3a4fd29a57ba",
        "colab": {
          "base_uri": "https://localhost:8080/",
          "height": 139
        }
      },
      "source": [
        "tmp_merged_1['age_category'] = tmp_merged_1.age.apply(age_category)"
      ],
      "execution_count": 28,
      "outputs": [
        {
          "output_type": "stream",
          "text": [
            "/usr/local/lib/python3.6/dist-packages/ipykernel_launcher.py:1: SettingWithCopyWarning: \n",
            "A value is trying to be set on a copy of a slice from a DataFrame.\n",
            "Try using .loc[row_indexer,col_indexer] = value instead\n",
            "\n",
            "See the caveats in the documentation: https://pandas.pydata.org/pandas-docs/stable/user_guide/indexing.html#returning-a-view-versus-a-copy\n",
            "  \"\"\"Entry point for launching an IPython kernel.\n"
          ],
          "name": "stderr"
        }
      ]
    },
    {
      "cell_type": "code",
      "metadata": {
        "id": "eMUpg1OLsk1Q"
      },
      "source": [
        "tmp_merged_1.reset_index(inplace=True)"
      ],
      "execution_count": 29,
      "outputs": []
    },
    {
      "cell_type": "code",
      "metadata": {
        "id": "pSCOwR5jp2s9",
        "outputId": "1c912139-3852-425f-fc3e-f6f694066865",
        "colab": {
          "base_uri": "https://localhost:8080/",
          "height": 122
        }
      },
      "source": [
        "tmp_merged_1.drop(['bdate','order_created_time','gender','user_id'], axis=1, inplace=True)"
      ],
      "execution_count": 30,
      "outputs": [
        {
          "output_type": "stream",
          "text": [
            "/usr/local/lib/python3.6/dist-packages/pandas/core/frame.py:4169: SettingWithCopyWarning: \n",
            "A value is trying to be set on a copy of a slice from a DataFrame\n",
            "\n",
            "See the caveats in the documentation: https://pandas.pydata.org/pandas-docs/stable/user_guide/indexing.html#returning-a-view-versus-a-copy\n",
            "  errors=errors,\n"
          ],
          "name": "stderr"
        }
      ]
    },
    {
      "cell_type": "code",
      "metadata": {
        "id": "dpCSPcqLqE3K"
      },
      "source": [
        "top_cat = pd.DataFrame(tmp_merged_1.groupby(['age_category']).product_id.value_counts()/tmp_merged_1.groupby(['age_category']).product_id.count()).rename(columns={'product_id': 'product_proba'}).reset_index()\n",
        "top = top_cat.groupby(['age_category'])[['product_proba', 'product_id']].apply(pd.DataFrame.nlargest, n=50, columns=['product_proba']).reset_index()"
      ],
      "execution_count": 31,
      "outputs": []
    },
    {
      "cell_type": "code",
      "metadata": {
        "id": "qWhUQt3oyVgB"
      },
      "source": [
        "top.drop('level_1', axis=1, inplace=True)"
      ],
      "execution_count": 32,
      "outputs": []
    },
    {
      "cell_type": "code",
      "metadata": {
        "id": "KjruQu2y8LbJ"
      },
      "source": [
        "top['product_id'] = top['product_id'].apply(lambda x: str(x) + ' ')"
      ],
      "execution_count": 33,
      "outputs": []
    },
    {
      "cell_type": "code",
      "metadata": {
        "id": "Fcdnzdak6l7j"
      },
      "source": [
        "cat = pd.DataFrame(top.groupby('age_category')['product_id'].sum())"
      ],
      "execution_count": 34,
      "outputs": []
    },
    {
      "cell_type": "code",
      "metadata": {
        "id": "v3PLUAun8Abq",
        "outputId": "aeb4cbe8-319d-41f2-c943-18e574250da0",
        "colab": {
          "base_uri": "https://localhost:8080/",
          "height": 405
        }
      },
      "source": [
        "cat"
      ],
      "execution_count": 68,
      "outputs": [
        {
          "output_type": "execute_result",
          "data": {
            "text/html": [
              "<div>\n",
              "<style scoped>\n",
              "    .dataframe tbody tr th:only-of-type {\n",
              "        vertical-align: middle;\n",
              "    }\n",
              "\n",
              "    .dataframe tbody tr th {\n",
              "        vertical-align: top;\n",
              "    }\n",
              "\n",
              "    .dataframe thead th {\n",
              "        text-align: right;\n",
              "    }\n",
              "</style>\n",
              "<table border=\"1\" class=\"dataframe\">\n",
              "  <thead>\n",
              "    <tr style=\"text-align: right;\">\n",
              "      <th></th>\n",
              "      <th>age_category</th>\n",
              "    </tr>\n",
              "    <tr>\n",
              "      <th>product_id</th>\n",
              "      <th></th>\n",
              "    </tr>\n",
              "  </thead>\n",
              "  <tbody>\n",
              "    <tr>\n",
              "      <th>709 166 39590 180 67040 70763 101251 5154 21757 66893 66966 73725 170 1598 2271 5217 23499 24831 72003 6782783 7325382 11 1597 2322 2325 9979 21767 51415 55133 57621 4033462 6685882 6694772 100 158 2544 6347 7397 9496 17145 21904 26335 26342 26597 31277 39589 39770 48315 57199 66894</th>\n",
              "      <td>1</td>\n",
              "    </tr>\n",
              "    <tr>\n",
              "      <th>709 39590 166 180 158 55133 100 3497419 73725 14564 66893 176 5217 67694 4033462 5469728 1300 7325382 21757 6685882 4592908 36067 3817484 21904 68465 57291 5479511 72003 57292 7397 49911 77094 73492 2544 72011 170 6782754 1746 77405 100849 70763 57621 72875 5154 63072 71049 55134 57290 21767 2600083</th>\n",
              "      <td>2</td>\n",
              "    </tr>\n",
              "    <tr>\n",
              "      <th>709 39590 158 166 100 14564 180 67694 73725 1300 7397 21904 7325382 3497419 49911 6685882 3817484 63072 176 72875 55133 21757 70763 7401 72011 77405 17314 5469728 981 31277 24836 96306 170 6782754 10049 36067 39589 24831 57291 100849 72003 52657 1746 68465 24835 5469736 7000939 71049 67040 10016</th>\n",
              "      <td>3</td>\n",
              "    </tr>\n",
              "    <tr>\n",
              "      <th>709 158 39590 166 1300 67694 100 3817484 63072 21904 176 7397 10049 55133 14564 981 5469728 7401 96306 21757 45459 3302524 5476137 49911 72006 52657 73725 100849 3497419 180 1746 15593 67199 31277 1747 3817489 68465 72011 6782754 2271 55134 5217 24831 72003 3497505 6685882 7000939 1242 21767 49921</th>\n",
              "      <td>4</td>\n",
              "    </tr>\n",
              "    <tr>\n",
              "      <th>709 1300 39590 158 67694 55134 166 63072 100 3817484 5469728 176 55133 69669 3497463 49911 6685882 7397 68465 24831 5469736 182 222 981 21757 73725 78643 180 20276 52657 3817512 6005364 6805305 45457 100849 5479511 6782788 104 14564 18398 5047346 39591 60615 3497505 3497570 6782754 6782783 7048452 9867 66966</th>\n",
              "      <td>5</td>\n",
              "    </tr>\n",
              "  </tbody>\n",
              "</table>\n",
              "</div>"
            ],
            "text/plain": [
              "                                                    age_category\n",
              "product_id                                                      \n",
              "709 166 39590 180 67040 70763 101251 5154 21757...             1\n",
              "709 39590 166 180 158 55133 100 3497419 73725 1...             2\n",
              "709 39590 158 166 100 14564 180 67694 73725 130...             3\n",
              "709 158 39590 166 1300 67694 100 3817484 63072 ...             4\n",
              "709 1300 39590 158 67694 55134 166 63072 100 38...             5"
            ]
          },
          "metadata": {
            "tags": []
          },
          "execution_count": 68
        }
      ]
    },
    {
      "cell_type": "code",
      "metadata": {
        "id": "iJGQGPyU7vk8"
      },
      "source": [
        "cat['product_id'] = cat['product_id'].apply(lambda x: x[:-1])\n",
        "cat.reset_index(inplace=True)"
      ],
      "execution_count": 36,
      "outputs": []
    },
    {
      "cell_type": "code",
      "metadata": {
        "id": "wthkf6hYh4VC"
      },
      "source": [
        "cat.reset_index(inplace=True)"
      ],
      "execution_count": 69,
      "outputs": []
    },
    {
      "cell_type": "code",
      "metadata": {
        "id": "ax-2Tvnxb7_o"
      },
      "source": [
        "cat.set_index('age_category', inplace=True)"
      ],
      "execution_count": 70,
      "outputs": []
    },
    {
      "cell_type": "code",
      "metadata": {
        "id": "1-qBt-ye7vlT"
      },
      "source": [
        "sub2.reset_index(inplace=True)"
      ],
      "execution_count": null,
      "outputs": []
    },
    {
      "cell_type": "code",
      "metadata": {
        "id": "UR-y1zBZ007F"
      },
      "source": [
        "df.drop('index', inplace=True, axis=1)"
      ],
      "execution_count": null,
      "outputs": []
    },
    {
      "cell_type": "code",
      "metadata": {
        "id": "BVERr0mwCOmt"
      },
      "source": [
        "tmp_merged = tmp.join(df)\n",
        "tmp1 = tmp_merged.copy().reset_index()"
      ],
      "execution_count": 90,
      "outputs": []
    },
    {
      "cell_type": "code",
      "metadata": {
        "id": "Wfdj_fsYA9Tv",
        "outputId": "97e0fcf1-cc49-4d11-cf9b-1a9e615c4713",
        "colab": {
          "base_uri": "https://localhost:8080/",
          "height": 221
        }
      },
      "source": [
        "tmp1.user_id.value_counts()"
      ],
      "execution_count": null,
      "outputs": [
        {
          "output_type": "execute_result",
          "data": {
            "text/plain": [
              "1082977    2708\n",
              "1225384    2161\n",
              "1637889    2147\n",
              "938731     1925\n",
              "222648     1902\n",
              "           ... \n",
              "1077791       1\n",
              "2952150       1\n",
              "2968543       1\n",
              "1894863       1\n",
              "2804926       1\n",
              "Name: user_id, Length: 86119, dtype: int64"
            ]
          },
          "metadata": {
            "tags": []
          },
          "execution_count": 50
        }
      ]
    },
    {
      "cell_type": "code",
      "metadata": {
        "id": "Okbt9IUhCOmO",
        "outputId": "97664a91-b77e-4445-fb42-f620a3be5f4a",
        "colab": {
          "base_uri": "https://localhost:8080/",
          "height": 34
        }
      },
      "source": [
        "random_retailer_select_proba = 1 / len(set(df['retailer'].values))\n",
        "random_retailer_select_proba"
      ],
      "execution_count": 91,
      "outputs": [
        {
          "output_type": "execute_result",
          "data": {
            "text/plain": [
              "0.01639344262295082"
            ]
          },
          "metadata": {
            "tags": []
          },
          "execution_count": 91
        }
      ]
    },
    {
      "cell_type": "code",
      "metadata": {
        "id": "FcaEpt4MLQ15"
      },
      "source": [
        "import random\n",
        "import numpy as np"
      ],
      "execution_count": 92,
      "outputs": []
    },
    {
      "cell_type": "code",
      "metadata": {
        "id": "SQ34zewtKm-M"
      },
      "source": [
        "tmp1.retailer_proba.fillna(value=random_retailer_select_proba, inplace=True)"
      ],
      "execution_count": 93,
      "outputs": []
    },
    {
      "cell_type": "code",
      "metadata": {
        "id": "IN_szxekrD2b"
      },
      "source": [
        "tmp1['retailer'] = tmp1.retailer.apply(lambda x: random.choice(df['retailer'].values) if type(x) == float else x)"
      ],
      "execution_count": 94,
      "outputs": []
    },
    {
      "cell_type": "code",
      "metadata": {
        "id": "t2yxcXqpsn1Z"
      },
      "source": [
        "tmp2 = tmp1.drop(['order_id','line_item_id','quantity','discount','product_name','brand_name', 'parent_category_id','order_created_time','price'], axis=1)\n",
        "tmp2.drop_duplicates(inplace=True)"
      ],
      "execution_count": 95,
      "outputs": []
    },
    {
      "cell_type": "code",
      "metadata": {
        "id": "AXeqp9b1FZKt"
      },
      "source": [
        "tmp_3_index = tmp2.set_index(['user_id', 'retailer','master_category_id'])"
      ],
      "execution_count": 96,
      "outputs": []
    },
    {
      "cell_type": "code",
      "metadata": {
        "id": "2_7zsyI-COm4"
      },
      "source": [
        "gp = pd.DataFrame(tmp2.groupby(['user_id','retailer']).master_category_id.value_counts()/tmp2.groupby(['user_id','retailer']).master_category_id.count())\n",
        "data = tmp_3_index.join(gp).rename(columns={'master_category_id': 'master_category_proba'}).reset_index()"
      ],
      "execution_count": 97,
      "outputs": []
    },
    {
      "cell_type": "code",
      "metadata": {
        "id": "hJSZH4xWCOm9"
      },
      "source": [
        "tmp_4_index = data.set_index(['user_id', 'retailer','master_category_id','product_id'])"
      ],
      "execution_count": 98,
      "outputs": []
    },
    {
      "cell_type": "code",
      "metadata": {
        "id": "Y2OsDEoWCOnB"
      },
      "source": [
        "tmp_cond = pd.DataFrame(data.groupby(['user_id', 'retailer','master_category_id']).product_id.value_counts()/data.groupby(['user_id', 'retailer','master_category_id']).product_id.count())\n",
        "data = tmp_4_index.join(tmp_cond).rename(columns={'product_id': 'cond_product_proba'}).reset_index()"
      ],
      "execution_count": 99,
      "outputs": []
    },
    {
      "cell_type": "code",
      "metadata": {
        "id": "pXtvyI0MCOnF"
      },
      "source": [
        "data[\"probas\"] = data['retailer_proba'] * data['master_category_proba'] * data['cond_product_proba']"
      ],
      "execution_count": 100,
      "outputs": []
    },
    {
      "cell_type": "code",
      "metadata": {
        "id": "dUFAkJ6KSRQL",
        "outputId": "bfb49c50-e075-45e2-da4a-d52d62c4126c",
        "colab": {
          "base_uri": "https://localhost:8080/",
          "height": 69
        }
      },
      "source": [
        "data[(data['user_id'] == 525) & (data['product_id'] == 37548)]"
      ],
      "execution_count": 101,
      "outputs": [
        {
          "output_type": "execute_result",
          "data": {
            "text/html": [
              "<div>\n",
              "<style scoped>\n",
              "    .dataframe tbody tr th:only-of-type {\n",
              "        vertical-align: middle;\n",
              "    }\n",
              "\n",
              "    .dataframe tbody tr th {\n",
              "        vertical-align: top;\n",
              "    }\n",
              "\n",
              "    .dataframe thead th {\n",
              "        text-align: right;\n",
              "    }\n",
              "</style>\n",
              "<table border=\"1\" class=\"dataframe\">\n",
              "  <thead>\n",
              "    <tr style=\"text-align: right;\">\n",
              "      <th></th>\n",
              "      <th>user_id</th>\n",
              "      <th>retailer</th>\n",
              "      <th>master_category_id</th>\n",
              "      <th>product_id</th>\n",
              "      <th>retailer_proba</th>\n",
              "      <th>master_category_proba</th>\n",
              "      <th>cond_product_proba</th>\n",
              "      <th>probas</th>\n",
              "    </tr>\n",
              "  </thead>\n",
              "  <tbody>\n",
              "  </tbody>\n",
              "</table>\n",
              "</div>"
            ],
            "text/plain": [
              "Empty DataFrame\n",
              "Columns: [user_id, retailer, master_category_id, product_id, retailer_proba, master_category_proba, cond_product_proba, probas]\n",
              "Index: []"
            ]
          },
          "metadata": {
            "tags": []
          },
          "execution_count": 101
        }
      ]
    },
    {
      "cell_type": "code",
      "metadata": {
        "id": "nsRaohsZCOnJ"
      },
      "source": [
        "prediction2 = data.groupby(['user_id'])[['probas', 'product_id']].apply(pd.DataFrame.nlargest, n=50, columns=['probas']).reset_index()"
      ],
      "execution_count": 102,
      "outputs": []
    },
    {
      "cell_type": "code",
      "metadata": {
        "id": "0Pqw3LlHu8jQ",
        "outputId": "d9e8165e-b767-4339-ecec-27e3897655a8",
        "colab": {
          "base_uri": "https://localhost:8080/",
          "height": 221
        }
      },
      "source": [
        "prediction2['user_id'].value_counts()"
      ],
      "execution_count": null,
      "outputs": [
        {
          "output_type": "execute_result",
          "data": {
            "text/plain": [
              "186277     50\n",
              "2999842    50\n",
              "1104256    50\n",
              "1788146    50\n",
              "1687715    50\n",
              "           ..\n",
              "3121918     1\n",
              "1425872     1\n",
              "81956       1\n",
              "231667      1\n",
              "121842      1\n",
              "Name: user_id, Length: 86095, dtype: int64"
            ]
          },
          "metadata": {
            "tags": []
          },
          "execution_count": 64
        }
      ]
    },
    {
      "cell_type": "code",
      "metadata": {
        "id": "2YBbELLsvDvQ"
      },
      "source": [
        "prediction2['product_id'] = prediction2['product_id'].apply(lambda x: str(x)+' ')"
      ],
      "execution_count": 103,
      "outputs": []
    },
    {
      "cell_type": "code",
      "metadata": {
        "id": "KKxCtswrvD3w"
      },
      "source": [
        ""
      ],
      "execution_count": 103,
      "outputs": []
    },
    {
      "cell_type": "code",
      "metadata": {
        "id": "30EcBBoMxpA-"
      },
      "source": [
        "sub2 = pd.DataFrame(prediction2.groupby('user_id')['product_id'].sum())"
      ],
      "execution_count": 211,
      "outputs": []
    },
    {
      "cell_type": "code",
      "metadata": {
        "id": "Hg52OauLxpBO"
      },
      "source": [
        "sub2['product_id'] = sub2['product_id'].apply(lambda x: x[:-1])"
      ],
      "execution_count": 212,
      "outputs": []
    },
    {
      "cell_type": "code",
      "metadata": {
        "id": "6b1aJCgoxpBT"
      },
      "source": [
        "sub2.reset_index(inplace=True)"
      ],
      "execution_count": 213,
      "outputs": []
    },
    {
      "cell_type": "code",
      "metadata": {
        "id": "wx8xCJIZxpBa"
      },
      "source": [
        "sub2 = sub2.rename(columns={'user_id': 'Id', 'product_id' : 'Predicted'})"
      ],
      "execution_count": 214,
      "outputs": []
    },
    {
      "cell_type": "code",
      "metadata": {
        "id": "XIOWTDdyxpBl"
      },
      "source": [
        "merged1 = pd.merge(sub2,submission_sample['Id'],on = 'Id',how='right')"
      ],
      "execution_count": 215,
      "outputs": []
    },
    {
      "cell_type": "code",
      "metadata": {
        "id": "-s_Rg4ewnZuO",
        "outputId": "ef2fe253-a3a3-4483-ce02-dfa092fb588a",
        "colab": {
          "base_uri": "https://localhost:8080/",
          "height": 419
        }
      },
      "source": [
        "merged1"
      ],
      "execution_count": 216,
      "outputs": [
        {
          "output_type": "execute_result",
          "data": {
            "text/html": [
              "<div>\n",
              "<style scoped>\n",
              "    .dataframe tbody tr th:only-of-type {\n",
              "        vertical-align: middle;\n",
              "    }\n",
              "\n",
              "    .dataframe tbody tr th {\n",
              "        vertical-align: top;\n",
              "    }\n",
              "\n",
              "    .dataframe thead th {\n",
              "        text-align: right;\n",
              "    }\n",
              "</style>\n",
              "<table border=\"1\" class=\"dataframe\">\n",
              "  <thead>\n",
              "    <tr style=\"text-align: right;\">\n",
              "      <th></th>\n",
              "      <th>Id</th>\n",
              "      <th>Predicted</th>\n",
              "    </tr>\n",
              "  </thead>\n",
              "  <tbody>\n",
              "    <tr>\n",
              "      <th>0</th>\n",
              "      <td>51</td>\n",
              "      <td>NaN</td>\n",
              "    </tr>\n",
              "    <tr>\n",
              "      <th>1</th>\n",
              "      <td>65</td>\n",
              "      <td>38362 4141822 74516 17111 709 103831 3302524 5...</td>\n",
              "    </tr>\n",
              "    <tr>\n",
              "      <th>2</th>\n",
              "      <td>766</td>\n",
              "      <td>5483405 7008786 7062000 7062001 45159 57199 54...</td>\n",
              "    </tr>\n",
              "    <tr>\n",
              "      <th>3</th>\n",
              "      <td>1132</td>\n",
              "      <td>1197 95465 61082 5997193 5657394 10086 10061 8...</td>\n",
              "    </tr>\n",
              "    <tr>\n",
              "      <th>4</th>\n",
              "      <td>1578</td>\n",
              "      <td>7106772 9122126 6337 6346 6371 5483120 285 158...</td>\n",
              "    </tr>\n",
              "    <tr>\n",
              "      <th>...</th>\n",
              "      <td>...</td>\n",
              "      <td>...</td>\n",
              "    </tr>\n",
              "    <tr>\n",
              "      <th>107063</th>\n",
              "      <td>2997849</td>\n",
              "      <td>93412 94112</td>\n",
              "    </tr>\n",
              "    <tr>\n",
              "      <th>107064</th>\n",
              "      <td>2997853</td>\n",
              "      <td>67442 96291 5075712 100804 60692 72283 58083 1...</td>\n",
              "    </tr>\n",
              "    <tr>\n",
              "      <th>107065</th>\n",
              "      <td>2997873</td>\n",
              "      <td>7062001 14248 46762 6210170 14341 68465 24851 ...</td>\n",
              "    </tr>\n",
              "    <tr>\n",
              "      <th>107066</th>\n",
              "      <td>2997988</td>\n",
              "      <td>7008784 7392322 6695385 6003841 6749608 674960...</td>\n",
              "    </tr>\n",
              "    <tr>\n",
              "      <th>107067</th>\n",
              "      <td>2998048</td>\n",
              "      <td>166 50018 6692437 6692436 5046516 5046788 6827...</td>\n",
              "    </tr>\n",
              "  </tbody>\n",
              "</table>\n",
              "<p>107068 rows × 2 columns</p>\n",
              "</div>"
            ],
            "text/plain": [
              "             Id                                          Predicted\n",
              "0            51                                                NaN\n",
              "1            65  38362 4141822 74516 17111 709 103831 3302524 5...\n",
              "2           766  5483405 7008786 7062000 7062001 45159 57199 54...\n",
              "3          1132  1197 95465 61082 5997193 5657394 10086 10061 8...\n",
              "4          1578  7106772 9122126 6337 6346 6371 5483120 285 158...\n",
              "...         ...                                                ...\n",
              "107063  2997849                                        93412 94112\n",
              "107064  2997853  67442 96291 5075712 100804 60692 72283 58083 1...\n",
              "107065  2997873  7062001 14248 46762 6210170 14341 68465 24851 ...\n",
              "107066  2997988  7008784 7392322 6695385 6003841 6749608 674960...\n",
              "107067  2998048  166 50018 6692437 6692436 5046516 5046788 6827...\n",
              "\n",
              "[107068 rows x 2 columns]"
            ]
          },
          "metadata": {
            "tags": []
          },
          "execution_count": 216
        }
      ]
    },
    {
      "cell_type": "code",
      "metadata": {
        "id": "UGfUm9uhlN7R"
      },
      "source": [
        "merged2 = pd.merge(merged1, user_info,on = 'Id',how='left')"
      ],
      "execution_count": 185,
      "outputs": []
    },
    {
      "cell_type": "code",
      "metadata": {
        "id": "dhPFUerrnIcC",
        "outputId": "0a2b495d-1746-4f34-a1dc-131292316d99",
        "colab": {
          "base_uri": "https://localhost:8080/",
          "height": 221
        }
      },
      "source": [
        "merged2"
      ],
      "execution_count": 186,
      "outputs": [
        {
          "output_type": "execute_result",
          "data": {
            "text/plain": [
              "268285     1\n",
              "1745861    1\n",
              "236376     1\n",
              "2866012    1\n",
              "242525     1\n",
              "          ..\n",
              "1919653    1\n",
              "1292067    1\n",
              "1568552    1\n",
              "2082605    1\n",
              "1581238    1\n",
              "Name: Id, Length: 107068, dtype: int64"
            ]
          },
          "metadata": {
            "tags": []
          },
          "execution_count": 186
        }
      ]
    },
    {
      "cell_type": "code",
      "metadata": {
        "id": "ad_TfLs5xpBp"
      },
      "source": [
        "merged1.Predicted.fillna('', inplace=True)"
      ],
      "execution_count": 217,
      "outputs": []
    },
    {
      "cell_type": "code",
      "metadata": {
        "id": "r35bqXMWxpBt"
      },
      "source": [
        "merged1['add'] = ' 709 39590 158 166 67694 100 1300 3497419 14564 21904 180 176 55133 49911 73725 5469728 63072 7401 3817484 7397 72011 21757 10049 55134 981 6685882 7000939 66893 52657 170 68465 17314 24831 100849 24836 5217 6805305 7325382 222 72875 39591 77405 72003 77094 72006 100789 57291 2600083 165 36067'"
      ],
      "execution_count": 218,
      "outputs": []
    },
    {
      "cell_type": "code",
      "metadata": {
        "id": "yGQ5qCVSvaJN"
      },
      "source": [
        "merged2['add'].fillna(best_choice, inplace=True)"
      ],
      "execution_count": 189,
      "outputs": []
    },
    {
      "cell_type": "code",
      "metadata": {
        "id": "SD7dVCTlvrZA"
      },
      "source": [
        "sub2 = merged1.copy()"
      ],
      "execution_count": 219,
      "outputs": []
    },
    {
      "cell_type": "code",
      "metadata": {
        "id": "HFnYx6sRxpB0"
      },
      "source": [
        "from  more_itertools import unique_everseen\n",
        "sub2['Predicted'] = sub2['Predicted'] + sub2['add']\n",
        "sub2['Predicted'] = sub2['Predicted'].apply(lambda x: \" \".join(list(unique_everseen(x.split(' ')))[:50]))"
      ],
      "execution_count": 220,
      "outputs": []
    },
    {
      "cell_type": "code",
      "metadata": {
        "id": "EHWX5kB8xpB5"
      },
      "source": [
        "sub2.drop(['add'], axis=1, inplace=True)"
      ],
      "execution_count": 221,
      "outputs": []
    },
    {
      "cell_type": "code",
      "metadata": {
        "id": "RsHYDWLBwiIR",
        "outputId": "5a90b130-421c-4aa7-fa54-28a14990124b",
        "colab": {
          "base_uri": "https://localhost:8080/",
          "height": 68
        }
      },
      "source": [
        "sub2.dtypes"
      ],
      "execution_count": 201,
      "outputs": [
        {
          "output_type": "execute_result",
          "data": {
            "text/plain": [
              "Id            int64\n",
              "Predicted    object\n",
              "dtype: object"
            ]
          },
          "metadata": {
            "tags": []
          },
          "execution_count": 201
        }
      ]
    },
    {
      "cell_type": "code",
      "metadata": {
        "id": "HNcPF8U4xpB9",
        "outputId": "f8d3790d-128a-4fc4-e434-31183401b38a",
        "colab": {
          "base_uri": "https://localhost:8080/",
          "height": 419
        }
      },
      "source": [
        "sub2['Predicted'] = sub2.Predicted.apply(lambda x: x[1:] if x[0]==' ' else x)\n",
        "sub2"
      ],
      "execution_count": 222,
      "outputs": [
        {
          "output_type": "execute_result",
          "data": {
            "text/html": [
              "<div>\n",
              "<style scoped>\n",
              "    .dataframe tbody tr th:only-of-type {\n",
              "        vertical-align: middle;\n",
              "    }\n",
              "\n",
              "    .dataframe tbody tr th {\n",
              "        vertical-align: top;\n",
              "    }\n",
              "\n",
              "    .dataframe thead th {\n",
              "        text-align: right;\n",
              "    }\n",
              "</style>\n",
              "<table border=\"1\" class=\"dataframe\">\n",
              "  <thead>\n",
              "    <tr style=\"text-align: right;\">\n",
              "      <th></th>\n",
              "      <th>Id</th>\n",
              "      <th>Predicted</th>\n",
              "    </tr>\n",
              "  </thead>\n",
              "  <tbody>\n",
              "    <tr>\n",
              "      <th>0</th>\n",
              "      <td>51</td>\n",
              "      <td>709 39590 158 166 67694 100 1300 3497419 14564...</td>\n",
              "    </tr>\n",
              "    <tr>\n",
              "      <th>1</th>\n",
              "      <td>65</td>\n",
              "      <td>38362 4141822 74516 17111 709 103831 3302524 5...</td>\n",
              "    </tr>\n",
              "    <tr>\n",
              "      <th>2</th>\n",
              "      <td>766</td>\n",
              "      <td>5483405 7008786 7062000 7062001 45159 57199 54...</td>\n",
              "    </tr>\n",
              "    <tr>\n",
              "      <th>3</th>\n",
              "      <td>1132</td>\n",
              "      <td>1197 95465 61082 5997193 5657394 10086 10061 8...</td>\n",
              "    </tr>\n",
              "    <tr>\n",
              "      <th>4</th>\n",
              "      <td>1578</td>\n",
              "      <td>7106772 9122126 6337 6346 6371 5483120 285 158...</td>\n",
              "    </tr>\n",
              "    <tr>\n",
              "      <th>...</th>\n",
              "      <td>...</td>\n",
              "      <td>...</td>\n",
              "    </tr>\n",
              "    <tr>\n",
              "      <th>107063</th>\n",
              "      <td>2997849</td>\n",
              "      <td>93412 94112 709 39590 158 166 67694 100 1300 3...</td>\n",
              "    </tr>\n",
              "    <tr>\n",
              "      <th>107064</th>\n",
              "      <td>2997853</td>\n",
              "      <td>67442 96291 5075712 100804 60692 72283 58083 1...</td>\n",
              "    </tr>\n",
              "    <tr>\n",
              "      <th>107065</th>\n",
              "      <td>2997873</td>\n",
              "      <td>7062001 14248 46762 6210170 14341 68465 24851 ...</td>\n",
              "    </tr>\n",
              "    <tr>\n",
              "      <th>107066</th>\n",
              "      <td>2997988</td>\n",
              "      <td>7008784 7392322 6695385 6003841 6749608 674960...</td>\n",
              "    </tr>\n",
              "    <tr>\n",
              "      <th>107067</th>\n",
              "      <td>2998048</td>\n",
              "      <td>166 50018 6692437 6692436 5046516 5046788 6827...</td>\n",
              "    </tr>\n",
              "  </tbody>\n",
              "</table>\n",
              "<p>107068 rows × 2 columns</p>\n",
              "</div>"
            ],
            "text/plain": [
              "             Id                                          Predicted\n",
              "0            51  709 39590 158 166 67694 100 1300 3497419 14564...\n",
              "1            65  38362 4141822 74516 17111 709 103831 3302524 5...\n",
              "2           766  5483405 7008786 7062000 7062001 45159 57199 54...\n",
              "3          1132  1197 95465 61082 5997193 5657394 10086 10061 8...\n",
              "4          1578  7106772 9122126 6337 6346 6371 5483120 285 158...\n",
              "...         ...                                                ...\n",
              "107063  2997849  93412 94112 709 39590 158 166 67694 100 1300 3...\n",
              "107064  2997853  67442 96291 5075712 100804 60692 72283 58083 1...\n",
              "107065  2997873  7062001 14248 46762 6210170 14341 68465 24851 ...\n",
              "107066  2997988  7008784 7392322 6695385 6003841 6749608 674960...\n",
              "107067  2998048  166 50018 6692437 6692436 5046516 5046788 6827...\n",
              "\n",
              "[107068 rows x 2 columns]"
            ]
          },
          "metadata": {
            "tags": []
          },
          "execution_count": 222
        }
      ]
    },
    {
      "cell_type": "code",
      "metadata": {
        "id": "7QBBcOIAxpCA"
      },
      "source": [
        "sub2.to_csv('solution9.csv', index = False, sep = ',')"
      ],
      "execution_count": 223,
      "outputs": []
    },
    {
      "cell_type": "code",
      "metadata": {
        "id": "RfRXJ_gTxpCE"
      },
      "source": [
        "solution77 = pd.read_csv('/content/drive/My Drive/Sbermarket/solution77.csv')"
      ],
      "execution_count": null,
      "outputs": []
    },
    {
      "cell_type": "code",
      "metadata": {
        "id": "nz3ZvhuCvEAi",
        "outputId": "6b25bf12-570a-4217-96bf-0204ae1c4546",
        "colab": {
          "base_uri": "https://localhost:8080/",
          "height": 163
        }
      },
      "source": [
        "add = solution77.set_index('Id').drop(sub2.Id.values.tolist()).reset_index()"
      ],
      "execution_count": null,
      "outputs": [
        {
          "output_type": "error",
          "ename": "NameError",
          "evalue": "ignored",
          "traceback": [
            "\u001b[0;31m---------------------------------------------------------------------------\u001b[0m",
            "\u001b[0;31mNameError\u001b[0m                                 Traceback (most recent call last)",
            "\u001b[0;32m<ipython-input-36-0b4dbc02f865>\u001b[0m in \u001b[0;36m<module>\u001b[0;34m()\u001b[0m\n\u001b[0;32m----> 1\u001b[0;31m \u001b[0madd\u001b[0m \u001b[0;34m=\u001b[0m \u001b[0msolution77\u001b[0m\u001b[0;34m.\u001b[0m\u001b[0mset_index\u001b[0m\u001b[0;34m(\u001b[0m\u001b[0;34m'Id'\u001b[0m\u001b[0;34m)\u001b[0m\u001b[0;34m.\u001b[0m\u001b[0mdrop\u001b[0m\u001b[0;34m(\u001b[0m\u001b[0msub2\u001b[0m\u001b[0;34m.\u001b[0m\u001b[0mId\u001b[0m\u001b[0;34m.\u001b[0m\u001b[0mvalues\u001b[0m\u001b[0;34m.\u001b[0m\u001b[0mtolist\u001b[0m\u001b[0;34m(\u001b[0m\u001b[0;34m)\u001b[0m\u001b[0;34m)\u001b[0m\u001b[0;34m.\u001b[0m\u001b[0mreset_index\u001b[0m\u001b[0;34m(\u001b[0m\u001b[0;34m)\u001b[0m\u001b[0;34m\u001b[0m\u001b[0;34m\u001b[0m\u001b[0m\n\u001b[0m",
            "\u001b[0;31mNameError\u001b[0m: name 'sub2' is not defined"
          ]
        }
      ]
    },
    {
      "cell_type": "code",
      "metadata": {
        "id": "8s1sR7pyE0oP"
      },
      "source": [
        "add['Predicted'] = ['709 709 709 709 709 709 709 709 709 709 709 709 709 709 709 709 709 709 709 709 709 709 709 709 709 709 709 709 709 709 709 709 709 709 709 709 709 709 709 709 709 709 709 709 709 709 709 709 709 709' for i in range(add.shape[0])]"
      ],
      "execution_count": null,
      "outputs": []
    },
    {
      "cell_type": "code",
      "metadata": {
        "id": "0ADzLHipGVYx",
        "outputId": "b4020fba-a6f0-41bf-e09b-579a08ad0e2f",
        "colab": {
          "base_uri": "https://localhost:8080/",
          "height": 419
        }
      },
      "source": [
        "res6 = pd.concat([sub2,add])\n",
        "res6"
      ],
      "execution_count": null,
      "outputs": [
        {
          "output_type": "execute_result",
          "data": {
            "text/html": [
              "<div>\n",
              "<style scoped>\n",
              "    .dataframe tbody tr th:only-of-type {\n",
              "        vertical-align: middle;\n",
              "    }\n",
              "\n",
              "    .dataframe tbody tr th {\n",
              "        vertical-align: top;\n",
              "    }\n",
              "\n",
              "    .dataframe thead th {\n",
              "        text-align: right;\n",
              "    }\n",
              "</style>\n",
              "<table border=\"1\" class=\"dataframe\">\n",
              "  <thead>\n",
              "    <tr style=\"text-align: right;\">\n",
              "      <th></th>\n",
              "      <th>Id</th>\n",
              "      <th>Predicted</th>\n",
              "    </tr>\n",
              "  </thead>\n",
              "  <tbody>\n",
              "    <tr>\n",
              "      <th>0</th>\n",
              "      <td>65</td>\n",
              "      <td>4202912 14462 101031 709 103831 26062 74516 17...</td>\n",
              "    </tr>\n",
              "    <tr>\n",
              "      <th>1</th>\n",
              "      <td>187</td>\n",
              "      <td>88084 88086709 39590 158 166 67694 100 1300 34...</td>\n",
              "    </tr>\n",
              "    <tr>\n",
              "      <th>2</th>\n",
              "      <td>576</td>\n",
              "      <td>177 5046703 46469 14007 7103983 50128 59893 56...</td>\n",
              "    </tr>\n",
              "    <tr>\n",
              "      <th>3</th>\n",
              "      <td>608</td>\n",
              "      <td>20033 14752 26616 4211879 44781 7043473 547098...</td>\n",
              "    </tr>\n",
              "    <tr>\n",
              "      <th>4</th>\n",
              "      <td>766</td>\n",
              "      <td>5483405 7008786 7062000 7062001 45159 57199 54...</td>\n",
              "    </tr>\n",
              "    <tr>\n",
              "      <th>...</th>\n",
              "      <td>...</td>\n",
              "      <td>...</td>\n",
              "    </tr>\n",
              "    <tr>\n",
              "      <th>20968</th>\n",
              "      <td>2767809</td>\n",
              "      <td>709 709 709 709 709 709 709 709 709 709 709 70...</td>\n",
              "    </tr>\n",
              "    <tr>\n",
              "      <th>20969</th>\n",
              "      <td>2834327</td>\n",
              "      <td>709 709 709 709 709 709 709 709 709 709 709 70...</td>\n",
              "    </tr>\n",
              "    <tr>\n",
              "      <th>20970</th>\n",
              "      <td>2834815</td>\n",
              "      <td>709 709 709 709 709 709 709 709 709 709 709 70...</td>\n",
              "    </tr>\n",
              "    <tr>\n",
              "      <th>20971</th>\n",
              "      <td>2956968</td>\n",
              "      <td>709 709 709 709 709 709 709 709 709 709 709 70...</td>\n",
              "    </tr>\n",
              "    <tr>\n",
              "      <th>20972</th>\n",
              "      <td>3023922</td>\n",
              "      <td>709 709 709 709 709 709 709 709 709 709 709 70...</td>\n",
              "    </tr>\n",
              "  </tbody>\n",
              "</table>\n",
              "<p>107068 rows × 2 columns</p>\n",
              "</div>"
            ],
            "text/plain": [
              "            Id                                          Predicted\n",
              "0           65  4202912 14462 101031 709 103831 26062 74516 17...\n",
              "1          187  88084 88086709 39590 158 166 67694 100 1300 34...\n",
              "2          576  177 5046703 46469 14007 7103983 50128 59893 56...\n",
              "3          608  20033 14752 26616 4211879 44781 7043473 547098...\n",
              "4          766  5483405 7008786 7062000 7062001 45159 57199 54...\n",
              "...        ...                                                ...\n",
              "20968  2767809  709 709 709 709 709 709 709 709 709 709 709 70...\n",
              "20969  2834327  709 709 709 709 709 709 709 709 709 709 709 70...\n",
              "20970  2834815  709 709 709 709 709 709 709 709 709 709 709 70...\n",
              "20971  2956968  709 709 709 709 709 709 709 709 709 709 709 70...\n",
              "20972  3023922  709 709 709 709 709 709 709 709 709 709 709 70...\n",
              "\n",
              "[107068 rows x 2 columns]"
            ]
          },
          "metadata": {
            "tags": []
          },
          "execution_count": 137
        }
      ]
    },
    {
      "cell_type": "code",
      "metadata": {
        "id": "qai5G7yDGhOl"
      },
      "source": [
        "res6.to_csv('solution6.csv', index = False, sep = ',')"
      ],
      "execution_count": null,
      "outputs": []
    },
    {
      "cell_type": "code",
      "metadata": {
        "id": "GtOblb9F3RaO",
        "outputId": "dcc812f7-0658-4ca1-b0ee-1ac235d6f4da",
        "colab": {
          "base_uri": "https://localhost:8080/",
          "height": 450
        }
      },
      "source": [
        "add.set_index('Id')"
      ],
      "execution_count": null,
      "outputs": [
        {
          "output_type": "execute_result",
          "data": {
            "text/html": [
              "<div>\n",
              "<style scoped>\n",
              "    .dataframe tbody tr th:only-of-type {\n",
              "        vertical-align: middle;\n",
              "    }\n",
              "\n",
              "    .dataframe tbody tr th {\n",
              "        vertical-align: top;\n",
              "    }\n",
              "\n",
              "    .dataframe thead th {\n",
              "        text-align: right;\n",
              "    }\n",
              "</style>\n",
              "<table border=\"1\" class=\"dataframe\">\n",
              "  <thead>\n",
              "    <tr style=\"text-align: right;\">\n",
              "      <th></th>\n",
              "      <th>Predicted</th>\n",
              "    </tr>\n",
              "    <tr>\n",
              "      <th>Id</th>\n",
              "      <th></th>\n",
              "    </tr>\n",
              "  </thead>\n",
              "  <tbody>\n",
              "    <tr>\n",
              "      <th>51</th>\n",
              "      <td>709 39590 158 166 67694 100 1300 3497419 14564...</td>\n",
              "    </tr>\n",
              "    <tr>\n",
              "      <th>400</th>\n",
              "      <td>41 397 487 981 5642 6613 6952 6992 8472 8545 9...</td>\n",
              "    </tr>\n",
              "    <tr>\n",
              "      <th>1221</th>\n",
              "      <td>0 1987 1989 1990 7401 15535 20408 21495 22993 ...</td>\n",
              "    </tr>\n",
              "    <tr>\n",
              "      <th>1626</th>\n",
              "      <td>709 39590 158 166 67694 100 1300 3497419 14564...</td>\n",
              "    </tr>\n",
              "    <tr>\n",
              "      <th>2858</th>\n",
              "      <td>158 258 694 4991 5045 5052 5178 5217 18478 218...</td>\n",
              "    </tr>\n",
              "    <tr>\n",
              "      <th>...</th>\n",
              "      <td>...</td>\n",
              "    </tr>\n",
              "    <tr>\n",
              "      <th>2767809</th>\n",
              "      <td>5568339 5569185 5571160 5571242 5571250 557280...</td>\n",
              "    </tr>\n",
              "    <tr>\n",
              "      <th>2834327</th>\n",
              "      <td>5567855 5568316 5569185 5575859 5576328 558738...</td>\n",
              "    </tr>\n",
              "    <tr>\n",
              "      <th>2834815</th>\n",
              "      <td>709 39590 158 166 67694 100 1300 3497419 14564...</td>\n",
              "    </tr>\n",
              "    <tr>\n",
              "      <th>2956968</th>\n",
              "      <td>709 39590 158 166 67694 100 1300 3497419 14564...</td>\n",
              "    </tr>\n",
              "    <tr>\n",
              "      <th>3023922</th>\n",
              "      <td>709 39590 158 166 67694 100 1300 3497419 14564...</td>\n",
              "    </tr>\n",
              "  </tbody>\n",
              "</table>\n",
              "<p>20973 rows × 1 columns</p>\n",
              "</div>"
            ],
            "text/plain": [
              "                                                 Predicted\n",
              "Id                                                        \n",
              "51       709 39590 158 166 67694 100 1300 3497419 14564...\n",
              "400      41 397 487 981 5642 6613 6952 6992 8472 8545 9...\n",
              "1221     0 1987 1989 1990 7401 15535 20408 21495 22993 ...\n",
              "1626     709 39590 158 166 67694 100 1300 3497419 14564...\n",
              "2858     158 258 694 4991 5045 5052 5178 5217 18478 218...\n",
              "...                                                    ...\n",
              "2767809  5568339 5569185 5571160 5571242 5571250 557280...\n",
              "2834327  5567855 5568316 5569185 5575859 5576328 558738...\n",
              "2834815  709 39590 158 166 67694 100 1300 3497419 14564...\n",
              "2956968  709 39590 158 166 67694 100 1300 3497419 14564...\n",
              "3023922  709 39590 158 166 67694 100 1300 3497419 14564...\n",
              "\n",
              "[20973 rows x 1 columns]"
            ]
          },
          "metadata": {
            "tags": []
          },
          "execution_count": 74
        }
      ]
    },
    {
      "cell_type": "code",
      "metadata": {
        "id": "DIPCIc5q4DiE",
        "outputId": "2606b3ad-9ec9-4b40-a7cc-76d5dd7f1962",
        "colab": {
          "base_uri": "https://localhost:8080/",
          "height": 450
        }
      },
      "source": [
        "user_info"
      ],
      "execution_count": null,
      "outputs": [
        {
          "output_type": "execute_result",
          "data": {
            "text/html": [
              "<div>\n",
              "<style scoped>\n",
              "    .dataframe tbody tr th:only-of-type {\n",
              "        vertical-align: middle;\n",
              "    }\n",
              "\n",
              "    .dataframe tbody tr th {\n",
              "        vertical-align: top;\n",
              "    }\n",
              "\n",
              "    .dataframe thead th {\n",
              "        text-align: right;\n",
              "    }\n",
              "</style>\n",
              "<table border=\"1\" class=\"dataframe\">\n",
              "  <thead>\n",
              "    <tr style=\"text-align: right;\">\n",
              "      <th></th>\n",
              "      <th>gender</th>\n",
              "      <th>bdate</th>\n",
              "    </tr>\n",
              "    <tr>\n",
              "      <th>user_id</th>\n",
              "      <th></th>\n",
              "      <th></th>\n",
              "    </tr>\n",
              "  </thead>\n",
              "  <tbody>\n",
              "    <tr>\n",
              "      <th>1683001</th>\n",
              "      <td>male</td>\n",
              "      <td>1987-10-11 00:00:00</td>\n",
              "    </tr>\n",
              "    <tr>\n",
              "      <th>1288925</th>\n",
              "      <td>male</td>\n",
              "      <td>1982-09-24 00:00:00</td>\n",
              "    </tr>\n",
              "    <tr>\n",
              "      <th>1914497</th>\n",
              "      <td>male</td>\n",
              "      <td>1983-09-26 00:00:00</td>\n",
              "    </tr>\n",
              "    <tr>\n",
              "      <th>631583</th>\n",
              "      <td>male</td>\n",
              "      <td>1989-03-16 00:00:00</td>\n",
              "    </tr>\n",
              "    <tr>\n",
              "      <th>2106256</th>\n",
              "      <td>male</td>\n",
              "      <td>1978-12-04 00:00:00</td>\n",
              "    </tr>\n",
              "    <tr>\n",
              "      <th>...</th>\n",
              "      <td>...</td>\n",
              "      <td>...</td>\n",
              "    </tr>\n",
              "    <tr>\n",
              "      <th>3423785</th>\n",
              "      <td>female</td>\n",
              "      <td>1961-12-29 00:00:00</td>\n",
              "    </tr>\n",
              "    <tr>\n",
              "      <th>3423935</th>\n",
              "      <td>male</td>\n",
              "      <td>1956-01-22 00:00:00</td>\n",
              "    </tr>\n",
              "    <tr>\n",
              "      <th>3423977</th>\n",
              "      <td>female</td>\n",
              "      <td>2004-06-17 00:00:00</td>\n",
              "    </tr>\n",
              "    <tr>\n",
              "      <th>3424020</th>\n",
              "      <td>male</td>\n",
              "      <td>1976-05-04 00:00:00</td>\n",
              "    </tr>\n",
              "    <tr>\n",
              "      <th>3424038</th>\n",
              "      <td>female</td>\n",
              "      <td>1955-05-12 00:00:00</td>\n",
              "    </tr>\n",
              "  </tbody>\n",
              "</table>\n",
              "<p>33799 rows × 2 columns</p>\n",
              "</div>"
            ],
            "text/plain": [
              "         gender                bdate\n",
              "user_id                             \n",
              "1683001    male  1987-10-11 00:00:00\n",
              "1288925    male  1982-09-24 00:00:00\n",
              "1914497    male  1983-09-26 00:00:00\n",
              "631583     male  1989-03-16 00:00:00\n",
              "2106256    male  1978-12-04 00:00:00\n",
              "...         ...                  ...\n",
              "3423785  female  1961-12-29 00:00:00\n",
              "3423935    male  1956-01-22 00:00:00\n",
              "3423977  female  2004-06-17 00:00:00\n",
              "3424020    male  1976-05-04 00:00:00\n",
              "3424038  female  1955-05-12 00:00:00\n",
              "\n",
              "[33799 rows x 2 columns]"
            ]
          },
          "metadata": {
            "tags": []
          },
          "execution_count": 75
        }
      ]
    },
    {
      "cell_type": "code",
      "metadata": {
        "id": "Xr5u2IAt5ZCX"
      },
      "source": [
        "from datetime import datetime"
      ],
      "execution_count": 38,
      "outputs": []
    },
    {
      "cell_type": "code",
      "metadata": {
        "id": "yBwRyYdP-_xR"
      },
      "source": [
        "cat.set_index('age_category', inplace=True)"
      ],
      "execution_count": null,
      "outputs": []
    },
    {
      "cell_type": "code",
      "metadata": {
        "id": "_FxUv3mxUF_q",
        "outputId": "d6973739-de28-4b32-d925-cf1ec1210a0a",
        "colab": {
          "base_uri": "https://localhost:8080/",
          "height": 459
        }
      },
      "source": [
        "add_merge = add.join(user_info).dropna().drop(['Predicted', 'gender'], axis=1)\n",
        "add_merge['age_category'] = add_merge['bdate'].apply(lambda x: int((datetime.now() - x).days / 365)).apply(age_category)\n",
        "add_merge['Predicted'] = [cat.loc[x['age_category']]['product_id'] for x in add_merge.iloc()]\n",
        "add_merge['Predicted']"
      ],
      "execution_count": null,
      "outputs": [
        {
          "output_type": "execute_result",
          "data": {
            "text/plain": [
              "223      709 1300 39590 158 55134 67694 3817484 166 546...\n",
              "516      709 158 39590 1300 166 67694 100 21904 7397 38...\n",
              "831      709 158 39590 1300 166 67694 100 21904 7397 38...\n",
              "914      709 158 39590 1300 166 67694 100 21904 7397 38...\n",
              "1647     709 158 39590 1300 166 67694 100 21904 7397 38...\n",
              "3011     709 158 39590 1300 166 67694 100 21904 7397 38...\n",
              "4067     709 39590 55133 158 166 3497419 100 180 66893 ...\n",
              "4302     709 158 39590 1300 166 67694 100 21904 7397 38...\n",
              "4607     709 39590 158 100 14564 166 63072 1300 180 219...\n",
              "7382     709 39590 55133 158 166 3497419 100 180 66893 ...\n",
              "7757     709 1300 39590 158 55134 67694 3817484 166 546...\n",
              "8110     709 158 39590 1300 166 67694 100 21904 7397 38...\n",
              "8402     709 39590 158 100 14564 166 63072 1300 180 219...\n",
              "8902     709 39590 158 100 14564 166 63072 1300 180 219...\n",
              "11151    709 39590 158 100 14564 166 63072 1300 180 219...\n",
              "11776    709 39590 158 100 14564 166 63072 1300 180 219...\n",
              "15993    709 39590 158 100 14564 166 63072 1300 180 219...\n",
              "16593    709 1300 39590 158 55134 67694 3817484 166 546...\n",
              "16693    709 39590 158 100 14564 166 63072 1300 180 219...\n",
              "17437    709 39590 55133 158 166 3497419 100 180 66893 ...\n",
              "17528    709 39590 55133 158 166 3497419 100 180 66893 ...\n",
              "18365    709 1300 39590 158 55134 67694 3817484 166 546...\n",
              "19832    709 1300 39590 158 55134 67694 3817484 166 546...\n",
              "20235    709 39590 158 100 14564 166 63072 1300 180 219...\n",
              "20938    709 158 39590 1300 166 67694 100 21904 7397 38...\n",
              "Name: Predicted, dtype: object"
            ]
          },
          "metadata": {
            "tags": []
          },
          "execution_count": 103
        }
      ]
    },
    {
      "cell_type": "code",
      "metadata": {
        "id": "7UUHdQFJ_1VX"
      },
      "source": [
        "addd = add_merge.drop(['bdate','age_category'], axis=1).reset_index().drop('index', axis=1)\n",
        "sub22 = pd.concat([sub2,addd])"
      ],
      "execution_count": null,
      "outputs": []
    },
    {
      "cell_type": "code",
      "metadata": {
        "id": "QAuR2euoAz6I"
      },
      "source": [
        "adddd = solution77.set_index('Id').drop(sub22.Id.values.tolist()).reset_index()"
      ],
      "execution_count": null,
      "outputs": []
    },
    {
      "cell_type": "code",
      "metadata": {
        "id": "6vwfWWuqBUZ7"
      },
      "source": [
        "adddd['Predicted'] = [random.choice(addd.Predicted.values.tolist()) for i in range(adddd.shape[0])]"
      ],
      "execution_count": null,
      "outputs": []
    },
    {
      "cell_type": "code",
      "metadata": {
        "id": "205P5P7jB5KL",
        "outputId": "d4ad27bc-fdee-4acd-f0cd-1a0599faa3ef",
        "colab": {
          "base_uri": "https://localhost:8080/",
          "height": 419
        }
      },
      "source": [
        "sub222 = pd.concat([sub22,adddd])\n",
        "sub222"
      ],
      "execution_count": null,
      "outputs": [
        {
          "output_type": "execute_result",
          "data": {
            "text/html": [
              "<div>\n",
              "<style scoped>\n",
              "    .dataframe tbody tr th:only-of-type {\n",
              "        vertical-align: middle;\n",
              "    }\n",
              "\n",
              "    .dataframe tbody tr th {\n",
              "        vertical-align: top;\n",
              "    }\n",
              "\n",
              "    .dataframe thead th {\n",
              "        text-align: right;\n",
              "    }\n",
              "</style>\n",
              "<table border=\"1\" class=\"dataframe\">\n",
              "  <thead>\n",
              "    <tr style=\"text-align: right;\">\n",
              "      <th></th>\n",
              "      <th>Id</th>\n",
              "      <th>Predicted</th>\n",
              "    </tr>\n",
              "  </thead>\n",
              "  <tbody>\n",
              "    <tr>\n",
              "      <th>0</th>\n",
              "      <td>65</td>\n",
              "      <td>4202912 14462 101031 709 103831 26062 74516 17...</td>\n",
              "    </tr>\n",
              "    <tr>\n",
              "      <th>1</th>\n",
              "      <td>187</td>\n",
              "      <td>88084 88086709 39590 158 166 67694 100 1300 34...</td>\n",
              "    </tr>\n",
              "    <tr>\n",
              "      <th>2</th>\n",
              "      <td>576</td>\n",
              "      <td>177 5046703 46469 14007 7103983 50128 59893 56...</td>\n",
              "    </tr>\n",
              "    <tr>\n",
              "      <th>3</th>\n",
              "      <td>608</td>\n",
              "      <td>20033 14752 26616 4211879 44781 7043473 547098...</td>\n",
              "    </tr>\n",
              "    <tr>\n",
              "      <th>4</th>\n",
              "      <td>766</td>\n",
              "      <td>5483405 7008786 7062000 7062001 45159 57199 54...</td>\n",
              "    </tr>\n",
              "    <tr>\n",
              "      <th>...</th>\n",
              "      <td>...</td>\n",
              "      <td>...</td>\n",
              "    </tr>\n",
              "    <tr>\n",
              "      <th>20943</th>\n",
              "      <td>2767809</td>\n",
              "      <td>709 39590 158 100 14564 166 63072 1300 180 219...</td>\n",
              "    </tr>\n",
              "    <tr>\n",
              "      <th>20944</th>\n",
              "      <td>2834327</td>\n",
              "      <td>709 158 39590 1300 166 67694 100 21904 7397 38...</td>\n",
              "    </tr>\n",
              "    <tr>\n",
              "      <th>20945</th>\n",
              "      <td>2834815</td>\n",
              "      <td>709 39590 158 100 14564 166 63072 1300 180 219...</td>\n",
              "    </tr>\n",
              "    <tr>\n",
              "      <th>20946</th>\n",
              "      <td>2956968</td>\n",
              "      <td>709 158 39590 1300 166 67694 100 21904 7397 38...</td>\n",
              "    </tr>\n",
              "    <tr>\n",
              "      <th>20947</th>\n",
              "      <td>3023922</td>\n",
              "      <td>709 39590 158 100 14564 166 63072 1300 180 219...</td>\n",
              "    </tr>\n",
              "  </tbody>\n",
              "</table>\n",
              "<p>107068 rows × 2 columns</p>\n",
              "</div>"
            ],
            "text/plain": [
              "            Id                                          Predicted\n",
              "0           65  4202912 14462 101031 709 103831 26062 74516 17...\n",
              "1          187  88084 88086709 39590 158 166 67694 100 1300 34...\n",
              "2          576  177 5046703 46469 14007 7103983 50128 59893 56...\n",
              "3          608  20033 14752 26616 4211879 44781 7043473 547098...\n",
              "4          766  5483405 7008786 7062000 7062001 45159 57199 54...\n",
              "...        ...                                                ...\n",
              "20943  2767809  709 39590 158 100 14564 166 63072 1300 180 219...\n",
              "20944  2834327  709 158 39590 1300 166 67694 100 21904 7397 38...\n",
              "20945  2834815  709 39590 158 100 14564 166 63072 1300 180 219...\n",
              "20946  2956968  709 158 39590 1300 166 67694 100 21904 7397 38...\n",
              "20947  3023922  709 39590 158 100 14564 166 63072 1300 180 219...\n",
              "\n",
              "[107068 rows x 2 columns]"
            ]
          },
          "metadata": {
            "tags": []
          },
          "execution_count": 144
        }
      ]
    },
    {
      "cell_type": "code",
      "metadata": {
        "id": "d-mRjBWRCCOr"
      },
      "source": [
        "  sub222.to_csv('solution7.csv', index = False, sep = ',')"
      ],
      "execution_count": null,
      "outputs": []
    },
    {
      "cell_type": "code",
      "metadata": {
        "id": "hR2l0ByUVyUU",
        "outputId": "25cd24b2-cf76-4afa-f845-0d276a11ffb7",
        "colab": {
          "base_uri": "https://localhost:8080/",
          "height": 34
        }
      },
      "source": [
        "add.Id.values[len(add.Id.values)-1]"
      ],
      "execution_count": null,
      "outputs": [
        {
          "output_type": "execute_result",
          "data": {
            "text/plain": [
              "3023922"
            ]
          },
          "metadata": {
            "tags": []
          },
          "execution_count": 94
        }
      ]
    },
    {
      "cell_type": "code",
      "metadata": {
        "id": "r3NFlSxnUXY_",
        "outputId": "62e81a44-8ded-4713-ecd6-0e493b9ad7cc",
        "colab": {
          "base_uri": "https://localhost:8080/",
          "height": 68
        }
      },
      "source": [
        "user_info.iloc[1221]"
      ],
      "execution_count": null,
      "outputs": [
        {
          "output_type": "execute_result",
          "data": {
            "text/plain": [
              "gender                 female\n",
              "bdate     1978-07-18 00:00:00\n",
              "Name: 994572, dtype: object"
            ]
          },
          "metadata": {
            "tags": []
          },
          "execution_count": 98
        }
      ]
    },
    {
      "cell_type": "code",
      "metadata": {
        "id": "_3W_jCps4il4",
        "outputId": "5fe61470-92b9-47ad-d1ae-22bac9bbb7b7",
        "colab": {
          "base_uri": "https://localhost:8080/",
          "height": 419
        }
      },
      "source": [
        "merged3 = pd.concat([sub2,add])\n",
        "merged3"
      ],
      "execution_count": null,
      "outputs": [
        {
          "output_type": "execute_result",
          "data": {
            "text/html": [
              "<div>\n",
              "<style scoped>\n",
              "    .dataframe tbody tr th:only-of-type {\n",
              "        vertical-align: middle;\n",
              "    }\n",
              "\n",
              "    .dataframe tbody tr th {\n",
              "        vertical-align: top;\n",
              "    }\n",
              "\n",
              "    .dataframe thead th {\n",
              "        text-align: right;\n",
              "    }\n",
              "</style>\n",
              "<table border=\"1\" class=\"dataframe\">\n",
              "  <thead>\n",
              "    <tr style=\"text-align: right;\">\n",
              "      <th></th>\n",
              "      <th>Id</th>\n",
              "      <th>Predicted</th>\n",
              "    </tr>\n",
              "  </thead>\n",
              "  <tbody>\n",
              "    <tr>\n",
              "      <th>0</th>\n",
              "      <td>65</td>\n",
              "      <td>4141822 4141822 4141822 17111 17111 17111 3817...</td>\n",
              "    </tr>\n",
              "    <tr>\n",
              "      <th>1</th>\n",
              "      <td>187</td>\n",
              "      <td>88084 88086</td>\n",
              "    </tr>\n",
              "    <tr>\n",
              "      <th>2</th>\n",
              "      <td>576</td>\n",
              "      <td>177 177 177 5046703 5046703 46469 46469 14007 ...</td>\n",
              "    </tr>\n",
              "    <tr>\n",
              "      <th>3</th>\n",
              "      <td>608</td>\n",
              "      <td>55641 55641 7342615 7342615 20033 14752 26616 ...</td>\n",
              "    </tr>\n",
              "    <tr>\n",
              "      <th>4</th>\n",
              "      <td>766</td>\n",
              "      <td>5483405 7008786 7062000 7062001 45159 57199 54...</td>\n",
              "    </tr>\n",
              "    <tr>\n",
              "      <th>...</th>\n",
              "      <td>...</td>\n",
              "      <td>...</td>\n",
              "    </tr>\n",
              "    <tr>\n",
              "      <th>20968</th>\n",
              "      <td>2767809</td>\n",
              "      <td>5568339 5569185 5571160 5571242 5571250 557280...</td>\n",
              "    </tr>\n",
              "    <tr>\n",
              "      <th>20969</th>\n",
              "      <td>2834327</td>\n",
              "      <td>5567855 5568316 5569185 5575859 5576328 558738...</td>\n",
              "    </tr>\n",
              "    <tr>\n",
              "      <th>20970</th>\n",
              "      <td>2834815</td>\n",
              "      <td>709 39590 158 166 67694 100 1300 3497419 14564...</td>\n",
              "    </tr>\n",
              "    <tr>\n",
              "      <th>20971</th>\n",
              "      <td>2956968</td>\n",
              "      <td>709 39590 158 166 67694 100 1300 3497419 14564...</td>\n",
              "    </tr>\n",
              "    <tr>\n",
              "      <th>20972</th>\n",
              "      <td>3023922</td>\n",
              "      <td>709 39590 158 166 67694 100 1300 3497419 14564...</td>\n",
              "    </tr>\n",
              "  </tbody>\n",
              "</table>\n",
              "<p>107068 rows × 2 columns</p>\n",
              "</div>"
            ],
            "text/plain": [
              "            Id                                          Predicted\n",
              "0           65  4141822 4141822 4141822 17111 17111 17111 3817...\n",
              "1          187                                        88084 88086\n",
              "2          576  177 177 177 5046703 5046703 46469 46469 14007 ...\n",
              "3          608  55641 55641 7342615 7342615 20033 14752 26616 ...\n",
              "4          766  5483405 7008786 7062000 7062001 45159 57199 54...\n",
              "...        ...                                                ...\n",
              "20968  2767809  5568339 5569185 5571160 5571242 5571250 557280...\n",
              "20969  2834327  5567855 5568316 5569185 5575859 5576328 558738...\n",
              "20970  2834815  709 39590 158 166 67694 100 1300 3497419 14564...\n",
              "20971  2956968  709 39590 158 166 67694 100 1300 3497419 14564...\n",
              "20972  3023922  709 39590 158 166 67694 100 1300 3497419 14564...\n",
              "\n",
              "[107068 rows x 2 columns]"
            ]
          },
          "metadata": {
            "tags": []
          },
          "execution_count": 42
        }
      ]
    },
    {
      "cell_type": "code",
      "metadata": {
        "id": "LPWe5O1h5CRX"
      },
      "source": [
        "merged3.to_csv('solution3.csv', index = False, sep = ',')"
      ],
      "execution_count": null,
      "outputs": []
    },
    {
      "cell_type": "code",
      "metadata": {
        "id": "NMNg4ueKNiWT"
      },
      "source": [
        "tmp2 = tmp.drop(['order_id','line_item_id','quantity','discount','product_name','brand_name', 'parent_category_id','order_created_time','price'], axis=1)\n",
        "tmp2.drop_duplicates(inplace=True)"
      ],
      "execution_count": null,
      "outputs": []
    },
    {
      "cell_type": "code",
      "metadata": {
        "id": "O0ds6BW95KGK"
      },
      "source": [
        ""
      ],
      "execution_count": null,
      "outputs": []
    },
    {
      "cell_type": "code",
      "metadata": {
        "id": "yWk1U_IAPulb",
        "outputId": "72cf6f0d-6bc9-4379-bff4-05472459c36b",
        "colab": {
          "base_uri": "https://localhost:8080/",
          "height": 221
        }
      },
      "source": [
        "tmp2.user_id.value_counts()"
      ],
      "execution_count": null,
      "outputs": [
        {
          "output_type": "execute_result",
          "data": {
            "text/plain": [
              "1093518    510\n",
              "1897175    445\n",
              "1599371    437\n",
              "1937712    408\n",
              "1222014    385\n",
              "          ... \n",
              "44616        1\n",
              "1738281      1\n",
              "1046504      1\n",
              "627694       1\n",
              "2425502      1\n",
              "Name: user_id, Length: 72816, dtype: int64"
            ]
          },
          "metadata": {
            "tags": []
          },
          "execution_count": 100
        }
      ]
    },
    {
      "cell_type": "code",
      "metadata": {
        "id": "mkC7eOo3AAj9"
      },
      "source": [
        "tmp_2_index = tmp2.set_index(['user_id', 'master_category_id'])\n",
        "gp_ret = pd.DataFrame(tmp2.groupby('user_id').master_category_id.value_counts()/tmp2.groupby('user_id').master_category_id.count())\n",
        "data = tmp_2_index.join(gp_ret).rename(columns={'master_category_id': 'master_category_proba'}).reset_index()"
      ],
      "execution_count": null,
      "outputs": []
    },
    {
      "cell_type": "code",
      "metadata": {
        "id": "SMP7kI02d_Ws",
        "outputId": "4e5d3ce6-946e-4c31-e3ef-789b53504657",
        "colab": {
          "base_uri": "https://localhost:8080/",
          "height": 221
        }
      },
      "source": [
        "data.user_id.value_counts()"
      ],
      "execution_count": null,
      "outputs": [
        {
          "output_type": "execute_result",
          "data": {
            "text/plain": [
              "1093518    510\n",
              "1897175    445\n",
              "1599371    437\n",
              "1937712    408\n",
              "1222014    385\n",
              "          ... \n",
              "44616        1\n",
              "1738281      1\n",
              "1046504      1\n",
              "627694       1\n",
              "2425502      1\n",
              "Name: user_id, Length: 72816, dtype: int64"
            ]
          },
          "metadata": {
            "tags": []
          },
          "execution_count": 102
        }
      ]
    },
    {
      "cell_type": "code",
      "metadata": {
        "id": "XFOrL0jMAy2N"
      },
      "source": [
        "tmp_3_index = data.set_index(['user_id','master_category_id','product_id'])"
      ],
      "execution_count": null,
      "outputs": []
    },
    {
      "cell_type": "code",
      "metadata": {
        "id": "M0RauSsGBcxI"
      },
      "source": [
        "tmp_cond = pd.DataFrame(data.groupby(['user_id','master_category_id']).product_id.value_counts()/data.groupby(['user_id','master_category_id']).product_id.count())\n",
        "data1 = tmp_3_index.join(tmp_cond).rename(columns={'product_id': 'cond_product_proba'}).reset_index()"
      ],
      "execution_count": null,
      "outputs": []
    },
    {
      "cell_type": "code",
      "metadata": {
        "id": "1DYDd1O9OsCk",
        "outputId": "09c0f2dc-f7f6-4511-fe62-30d1615fe851",
        "colab": {
          "base_uri": "https://localhost:8080/",
          "height": 221
        }
      },
      "source": [
        "data1.user_id.value_counts()"
      ],
      "execution_count": null,
      "outputs": [
        {
          "output_type": "execute_result",
          "data": {
            "text/plain": [
              "1093518    510\n",
              "1897175    445\n",
              "1599371    437\n",
              "1937712    408\n",
              "1222014    385\n",
              "          ... \n",
              "44616        1\n",
              "1738281      1\n",
              "1046504      1\n",
              "627694       1\n",
              "2425502      1\n",
              "Name: user_id, Length: 72816, dtype: int64"
            ]
          },
          "metadata": {
            "tags": []
          },
          "execution_count": 105
        }
      ]
    },
    {
      "cell_type": "code",
      "metadata": {
        "id": "eEPGYKmCBmtj"
      },
      "source": [
        "data1[\"probas\"] = data1['master_category_proba'] * data1['cond_product_proba']"
      ],
      "execution_count": null,
      "outputs": []
    },
    {
      "cell_type": "code",
      "metadata": {
        "id": "hSrTlIzOJI1Y",
        "outputId": "185e44f9-692f-4ce6-9375-2d03b572f81d",
        "colab": {
          "base_uri": "https://localhost:8080/",
          "height": 80
        }
      },
      "source": [
        "data1[(data1['user_id'] == 1340623) & (data1['product_id'] == 5215502)]"
      ],
      "execution_count": null,
      "outputs": [
        {
          "output_type": "execute_result",
          "data": {
            "text/html": [
              "<div>\n",
              "<style scoped>\n",
              "    .dataframe tbody tr th:only-of-type {\n",
              "        vertical-align: middle;\n",
              "    }\n",
              "\n",
              "    .dataframe tbody tr th {\n",
              "        vertical-align: top;\n",
              "    }\n",
              "\n",
              "    .dataframe thead th {\n",
              "        text-align: right;\n",
              "    }\n",
              "</style>\n",
              "<table border=\"1\" class=\"dataframe\">\n",
              "  <thead>\n",
              "    <tr style=\"text-align: right;\">\n",
              "      <th></th>\n",
              "      <th>user_id</th>\n",
              "      <th>master_category_id</th>\n",
              "      <th>product_id</th>\n",
              "      <th>master_category_proba</th>\n",
              "      <th>cond_product_proba</th>\n",
              "      <th>probas</th>\n",
              "    </tr>\n",
              "  </thead>\n",
              "  <tbody>\n",
              "    <tr>\n",
              "      <th>1193984</th>\n",
              "      <td>1340623</td>\n",
              "      <td>596.0</td>\n",
              "      <td>5215502</td>\n",
              "      <td>0.104651</td>\n",
              "      <td>0.111111</td>\n",
              "      <td>0.011628</td>\n",
              "    </tr>\n",
              "  </tbody>\n",
              "</table>\n",
              "</div>"
            ],
            "text/plain": [
              "         user_id  master_category_id  ...  cond_product_proba    probas\n",
              "1193984  1340623               596.0  ...            0.111111  0.011628\n",
              "\n",
              "[1 rows x 6 columns]"
            ]
          },
          "metadata": {
            "tags": []
          },
          "execution_count": 107
        }
      ]
    },
    {
      "cell_type": "code",
      "metadata": {
        "id": "S8IZH9mHeaty",
        "outputId": "cc0b6d9a-1919-47cc-9377-190c546cc2e0",
        "colab": {
          "base_uri": "https://localhost:8080/",
          "height": 221
        }
      },
      "source": [
        "data1.user_id.value_counts()"
      ],
      "execution_count": null,
      "outputs": [
        {
          "output_type": "execute_result",
          "data": {
            "text/plain": [
              "1093518    510\n",
              "1897175    445\n",
              "1599371    437\n",
              "1937712    408\n",
              "1222014    385\n",
              "          ... \n",
              "44616        1\n",
              "1738281      1\n",
              "1046504      1\n",
              "627694       1\n",
              "2425502      1\n",
              "Name: user_id, Length: 72816, dtype: int64"
            ]
          },
          "metadata": {
            "tags": []
          },
          "execution_count": 108
        }
      ]
    },
    {
      "cell_type": "code",
      "metadata": {
        "id": "2q7IbGoGCcU2"
      },
      "source": [
        "prdiction = data1.groupby(['user_id'])[['probas', 'product_id']].apply(pd.DataFrame.nlargest, n=50, columns=['probas']).reset_index()"
      ],
      "execution_count": null,
      "outputs": []
    },
    {
      "cell_type": "code",
      "metadata": {
        "id": "6wXM2D7lCz2z",
        "outputId": "b578ffc2-bfa5-4c46-8c9a-445290e1a5cf",
        "colab": {
          "base_uri": "https://localhost:8080/",
          "height": 221
        }
      },
      "source": [
        "prdiction['user_id'].value_counts()"
      ],
      "execution_count": null,
      "outputs": [
        {
          "output_type": "execute_result",
          "data": {
            "text/plain": [
              "110646     50\n",
              "1802303    50\n",
              "2541462    50\n",
              "1201237    50\n",
              "1252476    50\n",
              "           ..\n",
              "44616       1\n",
              "1738281     1\n",
              "1046504     1\n",
              "627694      1\n",
              "2425502     1\n",
              "Name: user_id, Length: 72816, dtype: int64"
            ]
          },
          "metadata": {
            "tags": []
          },
          "execution_count": 110
        }
      ]
    },
    {
      "cell_type": "code",
      "metadata": {
        "id": "Z3TzgA_GCkUL"
      },
      "source": [
        "prdiction['product_id'] = prdiction['product_id'].apply(lambda x: str(x)+' ')"
      ],
      "execution_count": null,
      "outputs": []
    },
    {
      "cell_type": "code",
      "metadata": {
        "id": "c90MZmmaEnDL"
      },
      "source": [
        "sub = pd.DataFrame(prdiction.groupby('user_id')['product_id'].sum())"
      ],
      "execution_count": null,
      "outputs": []
    },
    {
      "cell_type": "code",
      "metadata": {
        "id": "RQ85jfu0GgGC"
      },
      "source": [
        "sub['product_id'] = sub['product_id'].apply(lambda x: x[:-1])"
      ],
      "execution_count": null,
      "outputs": []
    },
    {
      "cell_type": "code",
      "metadata": {
        "id": "E36X5MI8GwL_"
      },
      "source": [
        "sub.reset_index(inplace=True)"
      ],
      "execution_count": null,
      "outputs": []
    },
    {
      "cell_type": "code",
      "metadata": {
        "id": "apHgor53Gyty"
      },
      "source": [
        "sub = sub.rename(columns={'user_id': 'Id', 'product_id' : 'Predicted'})"
      ],
      "execution_count": null,
      "outputs": []
    },
    {
      "cell_type": "code",
      "metadata": {
        "id": "RB6Yxm18kSjn",
        "outputId": "ce8e5805-7028-45f0-8a22-f1bfb42adf44",
        "colab": {
          "base_uri": "https://localhost:8080/",
          "height": 419
        }
      },
      "source": [
        "sub"
      ],
      "execution_count": null,
      "outputs": [
        {
          "output_type": "execute_result",
          "data": {
            "text/html": [
              "<div>\n",
              "<style scoped>\n",
              "    .dataframe tbody tr th:only-of-type {\n",
              "        vertical-align: middle;\n",
              "    }\n",
              "\n",
              "    .dataframe tbody tr th {\n",
              "        vertical-align: top;\n",
              "    }\n",
              "\n",
              "    .dataframe thead th {\n",
              "        text-align: right;\n",
              "    }\n",
              "</style>\n",
              "<table border=\"1\" class=\"dataframe\">\n",
              "  <thead>\n",
              "    <tr style=\"text-align: right;\">\n",
              "      <th></th>\n",
              "      <th>Id</th>\n",
              "      <th>Predicted</th>\n",
              "    </tr>\n",
              "  </thead>\n",
              "  <tbody>\n",
              "    <tr>\n",
              "      <th>0</th>\n",
              "      <td>187</td>\n",
              "      <td>88084 88086</td>\n",
              "    </tr>\n",
              "    <tr>\n",
              "      <th>1</th>\n",
              "      <td>576</td>\n",
              "      <td>59893 177 60951 38237 61683 7048995 1727 69242...</td>\n",
              "    </tr>\n",
              "    <tr>\n",
              "      <th>2</th>\n",
              "      <td>608</td>\n",
              "      <td>64800 80204 5476180 26222 69951 60116 60119 50...</td>\n",
              "    </tr>\n",
              "    <tr>\n",
              "      <th>3</th>\n",
              "      <td>766</td>\n",
              "      <td>57199 1037 5074655 38931 5044972 5566925 29586...</td>\n",
              "    </tr>\n",
              "    <tr>\n",
              "      <th>4</th>\n",
              "      <td>1012</td>\n",
              "      <td>18984 66958 5075323 7042858 3823465 60459</td>\n",
              "    </tr>\n",
              "    <tr>\n",
              "      <th>...</th>\n",
              "      <td>...</td>\n",
              "      <td>...</td>\n",
              "    </tr>\n",
              "    <tr>\n",
              "      <th>72811</th>\n",
              "      <td>3142760</td>\n",
              "      <td>7103865 71050 57291 57290 5046543 45478 710392...</td>\n",
              "    </tr>\n",
              "    <tr>\n",
              "      <th>72812</th>\n",
              "      <td>3142766</td>\n",
              "      <td>18438 3043458 3043457 14770 19932 9339775 3706...</td>\n",
              "    </tr>\n",
              "    <tr>\n",
              "      <th>72813</th>\n",
              "      <td>3142774</td>\n",
              "      <td>201892 14616 1159916 1159915 4033462 6805296 7...</td>\n",
              "    </tr>\n",
              "    <tr>\n",
              "      <th>72814</th>\n",
              "      <td>3142820</td>\n",
              "      <td>4277111 38931 22194 78849 57517 62038 15375 42...</td>\n",
              "    </tr>\n",
              "    <tr>\n",
              "      <th>72815</th>\n",
              "      <td>3142875</td>\n",
              "      <td>7043716 68465 9741 5075131 63763 5044951 50449...</td>\n",
              "    </tr>\n",
              "  </tbody>\n",
              "</table>\n",
              "<p>72816 rows × 2 columns</p>\n",
              "</div>"
            ],
            "text/plain": [
              "            Id                                          Predicted\n",
              "0          187                                        88084 88086\n",
              "1          576  59893 177 60951 38237 61683 7048995 1727 69242...\n",
              "2          608  64800 80204 5476180 26222 69951 60116 60119 50...\n",
              "3          766  57199 1037 5074655 38931 5044972 5566925 29586...\n",
              "4         1012          18984 66958 5075323 7042858 3823465 60459\n",
              "...        ...                                                ...\n",
              "72811  3142760  7103865 71050 57291 57290 5046543 45478 710392...\n",
              "72812  3142766  18438 3043458 3043457 14770 19932 9339775 3706...\n",
              "72813  3142774  201892 14616 1159916 1159915 4033462 6805296 7...\n",
              "72814  3142820  4277111 38931 22194 78849 57517 62038 15375 42...\n",
              "72815  3142875  7043716 68465 9741 5075131 63763 5044951 50449...\n",
              "\n",
              "[72816 rows x 2 columns]"
            ]
          },
          "metadata": {
            "tags": []
          },
          "execution_count": 128
        }
      ]
    },
    {
      "cell_type": "code",
      "metadata": {
        "id": "y0IVXT0cG-0X"
      },
      "source": [
        "merged = pd.merge(sub,submission_sample['Id'],on = 'Id',how='right')"
      ],
      "execution_count": null,
      "outputs": []
    },
    {
      "cell_type": "code",
      "metadata": {
        "id": "-0wyDgwVmJ3I"
      },
      "source": [
        "merged.Predicted.fillna('', inplace=True)"
      ],
      "execution_count": null,
      "outputs": []
    },
    {
      "cell_type": "code",
      "metadata": {
        "id": "4UGluCkZgxgj"
      },
      "source": [
        "merged['add'] = ' 709 39590 158 166 67694 100 1300 3497419 14564 21904 180 176 55133 49911 73725 5469728 63072 7401 3817484 7397 72011 21757 10049 55134 981 6685882 7000939 66893 52657 170 68465 17314 24831 100849 24836 5217 6805305 7325382 222 72875 39591 77405 72003 77094 72006 100789 57291 2600083 165 36067'"
      ],
      "execution_count": null,
      "outputs": []
    },
    {
      "cell_type": "code",
      "metadata": {
        "id": "T4uKcqJ_k6bG"
      },
      "source": [
        "from  more_itertools import unique_everseen\n",
        "merged['Predicted'] = merged['Predicted'] + merged['add']\n",
        "merged['Predicted'] = merged['Predicted'].apply(lambda x: \" \".join(list(unique_everseen(x.split(' ')))[:50]))"
      ],
      "execution_count": null,
      "outputs": []
    },
    {
      "cell_type": "code",
      "metadata": {
        "id": "UlEoB_zOlzdK"
      },
      "source": [
        "merged.drop(['add'], axis=1, inplace=True)"
      ],
      "execution_count": null,
      "outputs": []
    },
    {
      "cell_type": "code",
      "metadata": {
        "id": "XHAz-ycVh_oB",
        "outputId": "739e1b05-9abd-4867-8b8a-a26d92f90daa",
        "colab": {
          "base_uri": "https://localhost:8080/",
          "height": 419
        }
      },
      "source": [
        "merged"
      ],
      "execution_count": null,
      "outputs": [
        {
          "output_type": "execute_result",
          "data": {
            "text/html": [
              "<div>\n",
              "<style scoped>\n",
              "    .dataframe tbody tr th:only-of-type {\n",
              "        vertical-align: middle;\n",
              "    }\n",
              "\n",
              "    .dataframe tbody tr th {\n",
              "        vertical-align: top;\n",
              "    }\n",
              "\n",
              "    .dataframe thead th {\n",
              "        text-align: right;\n",
              "    }\n",
              "</style>\n",
              "<table border=\"1\" class=\"dataframe\">\n",
              "  <thead>\n",
              "    <tr style=\"text-align: right;\">\n",
              "      <th></th>\n",
              "      <th>Id</th>\n",
              "      <th>Predicted</th>\n",
              "    </tr>\n",
              "  </thead>\n",
              "  <tbody>\n",
              "    <tr>\n",
              "      <th>0</th>\n",
              "      <td>51</td>\n",
              "      <td>709 39590 158 166 67694 100 1300 3497419 1456...</td>\n",
              "    </tr>\n",
              "    <tr>\n",
              "      <th>1</th>\n",
              "      <td>65</td>\n",
              "      <td>709 39590 158 166 67694 100 1300 3497419 1456...</td>\n",
              "    </tr>\n",
              "    <tr>\n",
              "      <th>2</th>\n",
              "      <td>766</td>\n",
              "      <td>57199 1037 5074655 38931 5044972 5566925 29586...</td>\n",
              "    </tr>\n",
              "    <tr>\n",
              "      <th>3</th>\n",
              "      <td>1132</td>\n",
              "      <td>1199 66965 61082 5657394 5997193 10086 8823 10...</td>\n",
              "    </tr>\n",
              "    <tr>\n",
              "      <th>4</th>\n",
              "      <td>1578</td>\n",
              "      <td>7106772 9122126 6337 6371 6346 5483120 285 600...</td>\n",
              "    </tr>\n",
              "    <tr>\n",
              "      <th>...</th>\n",
              "      <td>...</td>\n",
              "      <td>...</td>\n",
              "    </tr>\n",
              "    <tr>\n",
              "      <th>107063</th>\n",
              "      <td>2997849</td>\n",
              "      <td>94112 93412 709 39590 158 166 67694 100 1300 3...</td>\n",
              "    </tr>\n",
              "    <tr>\n",
              "      <th>107064</th>\n",
              "      <td>2997853</td>\n",
              "      <td>96291 5075712 67442 100804 60692 5481655 58083...</td>\n",
              "    </tr>\n",
              "    <tr>\n",
              "      <th>107065</th>\n",
              "      <td>2997873</td>\n",
              "      <td>7062001 14248 6210170 46762 14341 68465 24851 ...</td>\n",
              "    </tr>\n",
              "    <tr>\n",
              "      <th>107066</th>\n",
              "      <td>2997988</td>\n",
              "      <td>7008784 7392322 6003841 6695385 6749608 674960...</td>\n",
              "    </tr>\n",
              "    <tr>\n",
              "      <th>107067</th>\n",
              "      <td>2998048</td>\n",
              "      <td>166 74016 6692436 6692437 5046516 5046788 6827...</td>\n",
              "    </tr>\n",
              "  </tbody>\n",
              "</table>\n",
              "<p>107068 rows × 2 columns</p>\n",
              "</div>"
            ],
            "text/plain": [
              "             Id                                          Predicted\n",
              "0            51   709 39590 158 166 67694 100 1300 3497419 1456...\n",
              "1            65   709 39590 158 166 67694 100 1300 3497419 1456...\n",
              "2           766  57199 1037 5074655 38931 5044972 5566925 29586...\n",
              "3          1132  1199 66965 61082 5657394 5997193 10086 8823 10...\n",
              "4          1578  7106772 9122126 6337 6371 6346 5483120 285 600...\n",
              "...         ...                                                ...\n",
              "107063  2997849  94112 93412 709 39590 158 166 67694 100 1300 3...\n",
              "107064  2997853  96291 5075712 67442 100804 60692 5481655 58083...\n",
              "107065  2997873  7062001 14248 6210170 46762 14341 68465 24851 ...\n",
              "107066  2997988  7008784 7392322 6003841 6695385 6749608 674960...\n",
              "107067  2998048  166 74016 6692436 6692437 5046516 5046788 6827...\n",
              "\n",
              "[107068 rows x 2 columns]"
            ]
          },
          "metadata": {
            "tags": []
          },
          "execution_count": 141
        }
      ]
    },
    {
      "cell_type": "code",
      "metadata": {
        "id": "_oNLmerziHXx"
      },
      "source": [
        "merged.to_csv('solution.csv', index = False, sep = ',')"
      ],
      "execution_count": null,
      "outputs": []
    },
    {
      "cell_type": "code",
      "metadata": {
        "id": "B7_jEI__ncYB"
      },
      "source": [
        ""
      ],
      "execution_count": null,
      "outputs": []
    }
  ]
}